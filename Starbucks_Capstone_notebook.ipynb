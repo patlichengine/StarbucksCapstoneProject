{
 "cells": [
  {
   "cell_type": "markdown",
   "metadata": {},
   "source": [
    "# Starbucks Capstone Challenge\n",
    "\n",
    "### Introduction\n",
    "\n",
    "This data set contains simulated data that mimics customer behavior on the Starbucks rewards mobile app. Once every few days, Starbucks sends out an offer to users of the mobile app. An offer can be merely an advertisement for a drink or an actual offer such as a discount or BOGO (buy one get one free). Some users might not receive any offer during certain weeks. \n",
    "\n",
    "Not all users receive the same offer, and that is the challenge to solve with this data set.\n",
    "\n",
    "Your task is to combine transaction, demographic and offer data to determine which demographic groups respond best to which offer type. This data set is a simplified version of the real Starbucks app because the underlying simulator only has one product whereas Starbucks actually sells dozens of products.\n",
    "\n",
    "Every offer has a validity period before the offer expires. As an example, a BOGO offer might be valid for only 5 days. You'll see in the data set that informational offers have a validity period even though these ads are merely providing information about a product; for example, if an informational offer has 7 days of validity, you can assume the customer is feeling the influence of the offer for 7 days after receiving the advertisement.\n",
    "\n",
    "You'll be given transactional data showing user purchases made on the app including the timestamp of purchase and the amount of money spent on a purchase. This transactional data also has a record for each offer that a user receives as well as a record for when a user actually views the offer. There are also records for when a user completes an offer. \n",
    "\n",
    "Keep in mind as well that someone using the app might make a purchase through the app without having received an offer or seen an offer.\n",
    "\n",
    "### Example\n",
    "\n",
    "To give an example, a user could receive a discount offer buy 10 dollars get 2 off on Monday. The offer is valid for 10 days from receipt. If the customer accumulates at least 10 dollars in purchases during the validity period, the customer completes the offer.\n",
    "\n",
    "However, there are a few things to watch out for in this data set. Customers do not opt into the offers that they receive; in other words, a user can receive an offer, never actually view the offer, and still complete the offer. For example, a user might receive the \"buy 10 dollars get 2 dollars off offer\", but the user never opens the offer during the 10 day validity period. The customer spends 15 dollars during those ten days. There will be an offer completion record in the data set; however, the customer was not influenced by the offer because the customer never viewed the offer.\n",
    "\n",
    "### Cleaning\n",
    "\n",
    "This makes data cleaning especially important and tricky.\n",
    "\n",
    "You'll also want to take into account that some demographic groups will make purchases even if they don't receive an offer. From a business perspective, if a customer is going to make a 10 dollar purchase without an offer anyway, you wouldn't want to send a buy 10 dollars get 2 dollars off offer. You'll want to try to assess what a certain demographic group will buy when not receiving any offers.\n",
    "\n",
    "### Final Advice\n",
    "\n",
    "Because this is a capstone project, you are free to analyze the data any way you see fit. For example, you could build a machine learning model that predicts how much someone will spend based on demographics and offer type. Or you could build a model that predicts whether or not someone will respond to an offer. Or, you don't need to build a machine learning model at all. You could develop a set of heuristics that determine what offer you should send to each customer (i.e., 75 percent of women customers who were 35 years old responded to offer A vs 40 percent from the same demographic to offer B, so send offer A)."
   ]
  },
  {
   "cell_type": "markdown",
   "metadata": {},
   "source": [
    "# Data Sets\n",
    "\n",
    "The data is contained in three files:\n",
    "\n",
    "* portfolio.json - containing offer ids and meta data about each offer (duration, type, etc.)\n",
    "* profile.json - demographic data for each customer\n",
    "* transcript.json - records for transactions, offers received, offers viewed, and offers completed\n",
    "\n",
    "Here is the schema and explanation of each variable in the files:\n",
    "\n",
    "**portfolio.json**\n",
    "* id (string) - offer id\n",
    "* offer_type (string) - type of offer ie BOGO, discount, informational\n",
    "* difficulty (int) - minimum required spend to complete an offer\n",
    "* reward (int) - reward given for completing an offer\n",
    "* duration (int) - time for offer to be open, in days\n",
    "* channels (list of strings)\n",
    "\n",
    "**profile.json**\n",
    "* age (int) - age of the customer \n",
    "* became_member_on (int) - date when customer created an app account\n",
    "* gender (str) - gender of the customer (note some entries contain 'O' for other rather than M or F)\n",
    "* id (str) - customer id\n",
    "* income (float) - customer's income\n",
    "\n",
    "**transcript.json**\n",
    "* event (str) - record description (ie transaction, offer received, offer viewed, etc.)\n",
    "* person (str) - customer id\n",
    "* time (int) - time in hours since start of test. The data begins at time t=0\n",
    "* value - (dict of strings) - either an offer id or transaction amount depending on the record\n",
    "\n",
    "**Note:** If you are using the workspace, you will need to go to the terminal and run the command `conda update pandas` before reading in the files. This is because the version of pandas in the workspace cannot read in the transcript.json file correctly, but the newest version of pandas can. You can access the termnal from the orange icon in the top left of this notebook.  \n",
    "\n",
    "You can see how to access the terminal and how the install works using the two images below.  First you need to access the terminal:\n",
    "\n",
    "<img src=\"pic1.png\"/>\n",
    "\n",
    "Then you will want to run the above command:\n",
    "\n",
    "<img src=\"pic2.png\"/>\n",
    "\n",
    "Finally, when you enter back into the notebook (use the jupyter icon again), you should be able to run the below cell without any errors."
   ]
  },
  {
   "cell_type": "code",
   "execution_count": 1,
   "metadata": {},
   "outputs": [],
   "source": [
    "import pandas as pd\n",
    "import numpy as np\n",
    "import math\n",
    "import json\n",
    "import matplotlib.pyplot as plt\n",
    "%matplotlib inline\n",
    "\n",
    "import seaborn as sns\n",
    "from joblib import dump, load\n",
    "\n",
    "from sklearn.ensemble import RandomForestClassifier, GradientBoostingClassifier, GradientBoostingRegressor\n",
    "from sklearn.neighbors import KNeighborsClassifier as KNN\n",
    "from sklearn.metrics import confusion_matrix, accuracy_score, classification_report,f1_score\n",
    "from sklearn import preprocessing\n",
    "\n",
    "from sklearn.model_selection import train_test_split, RandomizedSearchCV, GridSearchCV\n",
    "from sklearn.metrics import accuracy_score, f1_score, fbeta_score, make_scorer, mean_squared_error, mean_absolute_error\n",
    "from sklearn.linear_model import LogisticRegression\n"
   ]
  },
  {
   "cell_type": "code",
   "execution_count": 2,
   "metadata": {},
   "outputs": [],
   "source": [
    "# read in the json files\n",
    "portfolio = pd.read_json('data/portfolio.json', orient='records', lines=True)\n",
    "profile = pd.read_json('data/profile.json', orient='records', lines=True)\n",
    "transcript = pd.read_json('data/transcript.json', orient='records', lines=True)"
   ]
  },
  {
   "cell_type": "markdown",
   "metadata": {},
   "source": [
    "# Data Cleaning\n",
    "\n",
    "#### In order to have a good understanding of the data, let us take time to clean and explore the data to determine the best procedure to clean up the data. This would enable us check for  missing value, visualizing the data distribution"
   ]
  },
  {
   "cell_type": "code",
   "execution_count": 3,
   "metadata": {},
   "outputs": [
    {
     "data": {
      "text/html": [
       "<div>\n",
       "<style scoped>\n",
       "    .dataframe tbody tr th:only-of-type {\n",
       "        vertical-align: middle;\n",
       "    }\n",
       "\n",
       "    .dataframe tbody tr th {\n",
       "        vertical-align: top;\n",
       "    }\n",
       "\n",
       "    .dataframe thead th {\n",
       "        text-align: right;\n",
       "    }\n",
       "</style>\n",
       "<table border=\"1\" class=\"dataframe\">\n",
       "  <thead>\n",
       "    <tr style=\"text-align: right;\">\n",
       "      <th></th>\n",
       "      <th>channels</th>\n",
       "      <th>difficulty</th>\n",
       "      <th>duration</th>\n",
       "      <th>id</th>\n",
       "      <th>offer_type</th>\n",
       "      <th>reward</th>\n",
       "    </tr>\n",
       "  </thead>\n",
       "  <tbody>\n",
       "    <tr>\n",
       "      <th>0</th>\n",
       "      <td>[email, mobile, social]</td>\n",
       "      <td>10</td>\n",
       "      <td>7</td>\n",
       "      <td>ae264e3637204a6fb9bb56bc8210ddfd</td>\n",
       "      <td>bogo</td>\n",
       "      <td>10</td>\n",
       "    </tr>\n",
       "    <tr>\n",
       "      <th>1</th>\n",
       "      <td>[web, email, mobile, social]</td>\n",
       "      <td>10</td>\n",
       "      <td>5</td>\n",
       "      <td>4d5c57ea9a6940dd891ad53e9dbe8da0</td>\n",
       "      <td>bogo</td>\n",
       "      <td>10</td>\n",
       "    </tr>\n",
       "    <tr>\n",
       "      <th>2</th>\n",
       "      <td>[web, email, mobile]</td>\n",
       "      <td>0</td>\n",
       "      <td>4</td>\n",
       "      <td>3f207df678b143eea3cee63160fa8bed</td>\n",
       "      <td>informational</td>\n",
       "      <td>0</td>\n",
       "    </tr>\n",
       "    <tr>\n",
       "      <th>3</th>\n",
       "      <td>[web, email, mobile]</td>\n",
       "      <td>5</td>\n",
       "      <td>7</td>\n",
       "      <td>9b98b8c7a33c4b65b9aebfe6a799e6d9</td>\n",
       "      <td>bogo</td>\n",
       "      <td>5</td>\n",
       "    </tr>\n",
       "    <tr>\n",
       "      <th>4</th>\n",
       "      <td>[web, email]</td>\n",
       "      <td>20</td>\n",
       "      <td>10</td>\n",
       "      <td>0b1e1539f2cc45b7b9fa7c272da2e1d7</td>\n",
       "      <td>discount</td>\n",
       "      <td>5</td>\n",
       "    </tr>\n",
       "  </tbody>\n",
       "</table>\n",
       "</div>"
      ],
      "text/plain": [
       "                       channels  difficulty  duration  \\\n",
       "0       [email, mobile, social]          10         7   \n",
       "1  [web, email, mobile, social]          10         5   \n",
       "2          [web, email, mobile]           0         4   \n",
       "3          [web, email, mobile]           5         7   \n",
       "4                  [web, email]          20        10   \n",
       "\n",
       "                                 id     offer_type  reward  \n",
       "0  ae264e3637204a6fb9bb56bc8210ddfd           bogo      10  \n",
       "1  4d5c57ea9a6940dd891ad53e9dbe8da0           bogo      10  \n",
       "2  3f207df678b143eea3cee63160fa8bed  informational       0  \n",
       "3  9b98b8c7a33c4b65b9aebfe6a799e6d9           bogo       5  \n",
       "4  0b1e1539f2cc45b7b9fa7c272da2e1d7       discount       5  "
      ]
     },
     "execution_count": 3,
     "metadata": {},
     "output_type": "execute_result"
    }
   ],
   "source": [
    "portfolio.head()"
   ]
  },
  {
   "cell_type": "code",
   "execution_count": 27,
   "metadata": {},
   "outputs": [
    {
     "data": {
      "text/html": [
       "<div>\n",
       "<style scoped>\n",
       "    .dataframe tbody tr th:only-of-type {\n",
       "        vertical-align: middle;\n",
       "    }\n",
       "\n",
       "    .dataframe tbody tr th {\n",
       "        vertical-align: top;\n",
       "    }\n",
       "\n",
       "    .dataframe thead th {\n",
       "        text-align: right;\n",
       "    }\n",
       "</style>\n",
       "<table border=\"1\" class=\"dataframe\">\n",
       "  <thead>\n",
       "    <tr style=\"text-align: right;\">\n",
       "      <th></th>\n",
       "      <th>age</th>\n",
       "      <th>became_member_on</th>\n",
       "      <th>gender</th>\n",
       "      <th>id</th>\n",
       "      <th>income</th>\n",
       "      <th>valid</th>\n",
       "    </tr>\n",
       "  </thead>\n",
       "  <tbody>\n",
       "    <tr>\n",
       "      <th>0</th>\n",
       "      <td>118</td>\n",
       "      <td>1872</td>\n",
       "      <td>None</td>\n",
       "      <td>68be06ca386d4c31939f3a4f0e3dd783</td>\n",
       "      <td>NaN</td>\n",
       "      <td>0</td>\n",
       "    </tr>\n",
       "    <tr>\n",
       "      <th>1</th>\n",
       "      <td>55</td>\n",
       "      <td>1719</td>\n",
       "      <td>F</td>\n",
       "      <td>0610b486422d4921ae7d2bf64640c50b</td>\n",
       "      <td>112000.0</td>\n",
       "      <td>1</td>\n",
       "    </tr>\n",
       "    <tr>\n",
       "      <th>2</th>\n",
       "      <td>118</td>\n",
       "      <td>1357</td>\n",
       "      <td>None</td>\n",
       "      <td>38fe809add3b4fcf9315a9694bb96ff5</td>\n",
       "      <td>NaN</td>\n",
       "      <td>0</td>\n",
       "    </tr>\n",
       "    <tr>\n",
       "      <th>3</th>\n",
       "      <td>75</td>\n",
       "      <td>1786</td>\n",
       "      <td>F</td>\n",
       "      <td>78afa995795e4d85b5d9ceeca43f5fef</td>\n",
       "      <td>100000.0</td>\n",
       "      <td>1</td>\n",
       "    </tr>\n",
       "    <tr>\n",
       "      <th>4</th>\n",
       "      <td>118</td>\n",
       "      <td>1699</td>\n",
       "      <td>None</td>\n",
       "      <td>a03223e636434f42ac4c3df47e8bac43</td>\n",
       "      <td>NaN</td>\n",
       "      <td>0</td>\n",
       "    </tr>\n",
       "  </tbody>\n",
       "</table>\n",
       "</div>"
      ],
      "text/plain": [
       "   age  became_member_on gender                                id    income  \\\n",
       "0  118              1872   None  68be06ca386d4c31939f3a4f0e3dd783       NaN   \n",
       "1   55              1719      F  0610b486422d4921ae7d2bf64640c50b  112000.0   \n",
       "2  118              1357   None  38fe809add3b4fcf9315a9694bb96ff5       NaN   \n",
       "3   75              1786      F  78afa995795e4d85b5d9ceeca43f5fef  100000.0   \n",
       "4  118              1699   None  a03223e636434f42ac4c3df47e8bac43       NaN   \n",
       "\n",
       "   valid  \n",
       "0      0  \n",
       "1      1  \n",
       "2      0  \n",
       "3      1  \n",
       "4      0  "
      ]
     },
     "execution_count": 27,
     "metadata": {},
     "output_type": "execute_result"
    }
   ],
   "source": [
    "profile.head()"
   ]
  },
  {
   "cell_type": "code",
   "execution_count": 5,
   "metadata": {
    "scrolled": true
   },
   "outputs": [
    {
     "data": {
      "text/html": [
       "<div>\n",
       "<style scoped>\n",
       "    .dataframe tbody tr th:only-of-type {\n",
       "        vertical-align: middle;\n",
       "    }\n",
       "\n",
       "    .dataframe tbody tr th {\n",
       "        vertical-align: top;\n",
       "    }\n",
       "\n",
       "    .dataframe thead th {\n",
       "        text-align: right;\n",
       "    }\n",
       "</style>\n",
       "<table border=\"1\" class=\"dataframe\">\n",
       "  <thead>\n",
       "    <tr style=\"text-align: right;\">\n",
       "      <th></th>\n",
       "      <th>event</th>\n",
       "      <th>person</th>\n",
       "      <th>time</th>\n",
       "      <th>value</th>\n",
       "    </tr>\n",
       "  </thead>\n",
       "  <tbody>\n",
       "    <tr>\n",
       "      <th>0</th>\n",
       "      <td>offer received</td>\n",
       "      <td>78afa995795e4d85b5d9ceeca43f5fef</td>\n",
       "      <td>0</td>\n",
       "      <td>{'offer id': '9b98b8c7a33c4b65b9aebfe6a799e6d9'}</td>\n",
       "    </tr>\n",
       "    <tr>\n",
       "      <th>1</th>\n",
       "      <td>offer received</td>\n",
       "      <td>a03223e636434f42ac4c3df47e8bac43</td>\n",
       "      <td>0</td>\n",
       "      <td>{'offer id': '0b1e1539f2cc45b7b9fa7c272da2e1d7'}</td>\n",
       "    </tr>\n",
       "    <tr>\n",
       "      <th>2</th>\n",
       "      <td>offer received</td>\n",
       "      <td>e2127556f4f64592b11af22de27a7932</td>\n",
       "      <td>0</td>\n",
       "      <td>{'offer id': '2906b810c7d4411798c6938adc9daaa5'}</td>\n",
       "    </tr>\n",
       "    <tr>\n",
       "      <th>3</th>\n",
       "      <td>offer received</td>\n",
       "      <td>8ec6ce2a7e7949b1bf142def7d0e0586</td>\n",
       "      <td>0</td>\n",
       "      <td>{'offer id': 'fafdcd668e3743c1bb461111dcafc2a4'}</td>\n",
       "    </tr>\n",
       "    <tr>\n",
       "      <th>4</th>\n",
       "      <td>offer received</td>\n",
       "      <td>68617ca6246f4fbc85e91a2a49552598</td>\n",
       "      <td>0</td>\n",
       "      <td>{'offer id': '4d5c57ea9a6940dd891ad53e9dbe8da0'}</td>\n",
       "    </tr>\n",
       "  </tbody>\n",
       "</table>\n",
       "</div>"
      ],
      "text/plain": [
       "            event                            person  time  \\\n",
       "0  offer received  78afa995795e4d85b5d9ceeca43f5fef     0   \n",
       "1  offer received  a03223e636434f42ac4c3df47e8bac43     0   \n",
       "2  offer received  e2127556f4f64592b11af22de27a7932     0   \n",
       "3  offer received  8ec6ce2a7e7949b1bf142def7d0e0586     0   \n",
       "4  offer received  68617ca6246f4fbc85e91a2a49552598     0   \n",
       "\n",
       "                                              value  \n",
       "0  {'offer id': '9b98b8c7a33c4b65b9aebfe6a799e6d9'}  \n",
       "1  {'offer id': '0b1e1539f2cc45b7b9fa7c272da2e1d7'}  \n",
       "2  {'offer id': '2906b810c7d4411798c6938adc9daaa5'}  \n",
       "3  {'offer id': 'fafdcd668e3743c1bb461111dcafc2a4'}  \n",
       "4  {'offer id': '4d5c57ea9a6940dd891ad53e9dbe8da0'}  "
      ]
     },
     "execution_count": 5,
     "metadata": {},
     "output_type": "execute_result"
    }
   ],
   "source": [
    "transcript.head()"
   ]
  },
  {
   "cell_type": "code",
   "execution_count": 6,
   "metadata": {},
   "outputs": [],
   "source": [
    "from collections import Counter\n",
    "def clean_portfolio(df):\n",
    "    '''\n",
    "    Description: \n",
    "        Deserialize the channels attribute to create column header for each of them along with the rest of the fields\n",
    "        Merge the portfolio dataframe with the stacked data using the id field\n",
    "        Drop the channels column from the dataset\n",
    "        Rename the id field as offer_id\n",
    "        Convert the duration data to hours instead of days\n",
    "        drop any duplicates if any\n",
    "    Input:\n",
    "        - df: original portfolio dataframe\n",
    "    Returns:\n",
    "        - portfolio_df - the cleaned portfolio dataframe\n",
    "    '''\n",
    "    #deserialize the channels attribute to form each item to a column and their respective participations,\n",
    "    #Convert categorical variable into dummy/indicator variables.\n",
    "    #credit to https://stackoverflow.com/questions/70139966/how-to-transform-dataframe-column-containing-list-of-values-in-to-its-own-indivi\n",
    "    portfolio_stacked = df.set_index('id')['channels'].map(Counter).apply(pd.Series).fillna(0, downcast='infer').reset_index()\n",
    "    #merge the stacked df and the main df to form the collective data\n",
    "    portfolio_df = df.merge(portfolio_stacked,how='left',on='id')\n",
    "    #drop the original channels data\n",
    "    portfolio_df.drop(columns='channels', inplace=True)\n",
    "    \n",
    "    #:portfolio represent Offers sent during 30-day test period (10 offers x 6 fields)\n",
    "    #we can rename the portfolio id as the offer_id\n",
    "    portfolio_df.rename(columns={'id':'offer_id'}, inplace=True)\n",
    "    \n",
    "    #convert the offertypes to columns\n",
    "    offer_types = pd.get_dummies(portfolio_df['offer_type'].str.lower(), prefix=\"offer\")\n",
    "    portfolio_df = pd.concat([portfolio_df,offer_types],axis=1)\n",
    "    portfolio_df.drop(columns='offer_type', inplace=True)\n",
    "    \n",
    "    #drop duplicated if any\n",
    "    portfolio_df.drop_duplicates(inplace=True)\n",
    "    \n",
    "    return portfolio_df\n",
    "    \n",
    "portfolio_df = clean_portfolio(portfolio)"
   ]
  },
  {
   "cell_type": "code",
   "execution_count": 7,
   "metadata": {},
   "outputs": [
    {
     "data": {
      "text/html": [
       "<div>\n",
       "<style scoped>\n",
       "    .dataframe tbody tr th:only-of-type {\n",
       "        vertical-align: middle;\n",
       "    }\n",
       "\n",
       "    .dataframe tbody tr th {\n",
       "        vertical-align: top;\n",
       "    }\n",
       "\n",
       "    .dataframe thead th {\n",
       "        text-align: right;\n",
       "    }\n",
       "</style>\n",
       "<table border=\"1\" class=\"dataframe\">\n",
       "  <thead>\n",
       "    <tr style=\"text-align: right;\">\n",
       "      <th></th>\n",
       "      <th>difficulty</th>\n",
       "      <th>duration</th>\n",
       "      <th>offer_id</th>\n",
       "      <th>reward</th>\n",
       "      <th>email</th>\n",
       "      <th>mobile</th>\n",
       "      <th>social</th>\n",
       "      <th>web</th>\n",
       "      <th>offer_bogo</th>\n",
       "      <th>offer_discount</th>\n",
       "      <th>offer_informational</th>\n",
       "    </tr>\n",
       "  </thead>\n",
       "  <tbody>\n",
       "    <tr>\n",
       "      <th>0</th>\n",
       "      <td>10</td>\n",
       "      <td>7</td>\n",
       "      <td>ae264e3637204a6fb9bb56bc8210ddfd</td>\n",
       "      <td>10</td>\n",
       "      <td>1</td>\n",
       "      <td>1</td>\n",
       "      <td>1</td>\n",
       "      <td>0</td>\n",
       "      <td>1</td>\n",
       "      <td>0</td>\n",
       "      <td>0</td>\n",
       "    </tr>\n",
       "    <tr>\n",
       "      <th>1</th>\n",
       "      <td>10</td>\n",
       "      <td>5</td>\n",
       "      <td>4d5c57ea9a6940dd891ad53e9dbe8da0</td>\n",
       "      <td>10</td>\n",
       "      <td>1</td>\n",
       "      <td>1</td>\n",
       "      <td>1</td>\n",
       "      <td>1</td>\n",
       "      <td>1</td>\n",
       "      <td>0</td>\n",
       "      <td>0</td>\n",
       "    </tr>\n",
       "    <tr>\n",
       "      <th>2</th>\n",
       "      <td>0</td>\n",
       "      <td>4</td>\n",
       "      <td>3f207df678b143eea3cee63160fa8bed</td>\n",
       "      <td>0</td>\n",
       "      <td>1</td>\n",
       "      <td>1</td>\n",
       "      <td>0</td>\n",
       "      <td>1</td>\n",
       "      <td>0</td>\n",
       "      <td>0</td>\n",
       "      <td>1</td>\n",
       "    </tr>\n",
       "    <tr>\n",
       "      <th>3</th>\n",
       "      <td>5</td>\n",
       "      <td>7</td>\n",
       "      <td>9b98b8c7a33c4b65b9aebfe6a799e6d9</td>\n",
       "      <td>5</td>\n",
       "      <td>1</td>\n",
       "      <td>1</td>\n",
       "      <td>0</td>\n",
       "      <td>1</td>\n",
       "      <td>1</td>\n",
       "      <td>0</td>\n",
       "      <td>0</td>\n",
       "    </tr>\n",
       "    <tr>\n",
       "      <th>4</th>\n",
       "      <td>20</td>\n",
       "      <td>10</td>\n",
       "      <td>0b1e1539f2cc45b7b9fa7c272da2e1d7</td>\n",
       "      <td>5</td>\n",
       "      <td>1</td>\n",
       "      <td>0</td>\n",
       "      <td>0</td>\n",
       "      <td>1</td>\n",
       "      <td>0</td>\n",
       "      <td>1</td>\n",
       "      <td>0</td>\n",
       "    </tr>\n",
       "  </tbody>\n",
       "</table>\n",
       "</div>"
      ],
      "text/plain": [
       "   difficulty  duration                          offer_id  reward  email  \\\n",
       "0          10         7  ae264e3637204a6fb9bb56bc8210ddfd      10      1   \n",
       "1          10         5  4d5c57ea9a6940dd891ad53e9dbe8da0      10      1   \n",
       "2           0         4  3f207df678b143eea3cee63160fa8bed       0      1   \n",
       "3           5         7  9b98b8c7a33c4b65b9aebfe6a799e6d9       5      1   \n",
       "4          20        10  0b1e1539f2cc45b7b9fa7c272da2e1d7       5      1   \n",
       "\n",
       "   mobile  social  web  offer_bogo  offer_discount  offer_informational  \n",
       "0       1       1    0           1               0                    0  \n",
       "1       1       1    1           1               0                    0  \n",
       "2       1       0    1           0               0                    1  \n",
       "3       1       0    1           1               0                    0  \n",
       "4       0       0    1           0               1                    0  "
      ]
     },
     "execution_count": 7,
     "metadata": {},
     "output_type": "execute_result"
    }
   ],
   "source": [
    "portfolio_df.head()"
   ]
  },
  {
   "cell_type": "code",
   "execution_count": 8,
   "metadata": {},
   "outputs": [
    {
     "data": {
      "text/html": [
       "<div>\n",
       "<style scoped>\n",
       "    .dataframe tbody tr th:only-of-type {\n",
       "        vertical-align: middle;\n",
       "    }\n",
       "\n",
       "    .dataframe tbody tr th {\n",
       "        vertical-align: top;\n",
       "    }\n",
       "\n",
       "    .dataframe thead th {\n",
       "        text-align: right;\n",
       "    }\n",
       "</style>\n",
       "<table border=\"1\" class=\"dataframe\">\n",
       "  <thead>\n",
       "    <tr style=\"text-align: right;\">\n",
       "      <th></th>\n",
       "      <th>age</th>\n",
       "      <th>became_member_on</th>\n",
       "      <th>gender</th>\n",
       "      <th>customer_id</th>\n",
       "      <th>income</th>\n",
       "      <th>valid</th>\n",
       "      <th>gender_f</th>\n",
       "      <th>gender_m</th>\n",
       "      <th>gender_o</th>\n",
       "    </tr>\n",
       "  </thead>\n",
       "  <tbody>\n",
       "    <tr>\n",
       "      <th>0</th>\n",
       "      <td>118</td>\n",
       "      <td>1872</td>\n",
       "      <td>None</td>\n",
       "      <td>68be06ca386d4c31939f3a4f0e3dd783</td>\n",
       "      <td>NaN</td>\n",
       "      <td>0</td>\n",
       "      <td>0</td>\n",
       "      <td>0</td>\n",
       "      <td>0</td>\n",
       "    </tr>\n",
       "    <tr>\n",
       "      <th>1</th>\n",
       "      <td>55</td>\n",
       "      <td>1719</td>\n",
       "      <td>F</td>\n",
       "      <td>0610b486422d4921ae7d2bf64640c50b</td>\n",
       "      <td>112000.0</td>\n",
       "      <td>1</td>\n",
       "      <td>1</td>\n",
       "      <td>0</td>\n",
       "      <td>0</td>\n",
       "    </tr>\n",
       "    <tr>\n",
       "      <th>2</th>\n",
       "      <td>118</td>\n",
       "      <td>1357</td>\n",
       "      <td>None</td>\n",
       "      <td>38fe809add3b4fcf9315a9694bb96ff5</td>\n",
       "      <td>NaN</td>\n",
       "      <td>0</td>\n",
       "      <td>0</td>\n",
       "      <td>0</td>\n",
       "      <td>0</td>\n",
       "    </tr>\n",
       "    <tr>\n",
       "      <th>3</th>\n",
       "      <td>75</td>\n",
       "      <td>1786</td>\n",
       "      <td>F</td>\n",
       "      <td>78afa995795e4d85b5d9ceeca43f5fef</td>\n",
       "      <td>100000.0</td>\n",
       "      <td>1</td>\n",
       "      <td>1</td>\n",
       "      <td>0</td>\n",
       "      <td>0</td>\n",
       "    </tr>\n",
       "    <tr>\n",
       "      <th>4</th>\n",
       "      <td>118</td>\n",
       "      <td>1699</td>\n",
       "      <td>None</td>\n",
       "      <td>a03223e636434f42ac4c3df47e8bac43</td>\n",
       "      <td>NaN</td>\n",
       "      <td>0</td>\n",
       "      <td>0</td>\n",
       "      <td>0</td>\n",
       "      <td>0</td>\n",
       "    </tr>\n",
       "  </tbody>\n",
       "</table>\n",
       "</div>"
      ],
      "text/plain": [
       "   age  became_member_on gender                       customer_id    income  \\\n",
       "0  118              1872   None  68be06ca386d4c31939f3a4f0e3dd783       NaN   \n",
       "1   55              1719      F  0610b486422d4921ae7d2bf64640c50b  112000.0   \n",
       "2  118              1357   None  38fe809add3b4fcf9315a9694bb96ff5       NaN   \n",
       "3   75              1786      F  78afa995795e4d85b5d9ceeca43f5fef  100000.0   \n",
       "4  118              1699   None  a03223e636434f42ac4c3df47e8bac43       NaN   \n",
       "\n",
       "   valid  gender_f  gender_m  gender_o  \n",
       "0      0         0         0         0  \n",
       "1      1         1         0         0  \n",
       "2      0         0         0         0  \n",
       "3      1         1         0         0  \n",
       "4      0         0         0         0  "
      ]
     },
     "execution_count": 8,
     "metadata": {},
     "output_type": "execute_result"
    }
   ],
   "source": [
    "import datetime\n",
    "def clean_profile(df):\n",
    "    '''\n",
    "    Description: Clean the profile data frame.\n",
    "        - Format the date field to a standard date format\n",
    "        - Create a columns name for all confirmed users using afte inpecting the dataset\n",
    "        - Extract dummy or indicator variable from the categorical attribute gender\n",
    "        - Merge the dummy data with the main dataset\n",
    "        - Drop any duplicates if need be\n",
    "    Input:\n",
    "        - df: original profile dataframe\n",
    "    Returns:\n",
    "        - profile_df - the cleaned profile dataframe\n",
    "    '''\n",
    "    df['became_member_on'] = pd.to_datetime(df['became_member_on'], format='%Y%m%d')\n",
    "    df['valid'] = (df.age != 118).astype(int)\n",
    "    \n",
    "    # Convert categorical variable line gender into dummy/indicator variables.\n",
    "    #https://pandas.pydata.org/docs/reference/api/pandas.get_dummies.html\n",
    "    dummies = pd.get_dummies(df['gender'].str.lower(), prefix=\"gender\").groupby(df['id']).max().reset_index()\n",
    "    #dummies_years = pd.get_dummies(df['became_member_on'].apply(lambda x: x.year)).groupby(df['id']).max().reset_index()\n",
    "    df['became_member_on']  = df['became_member_on'].apply(lambda x: int((pd.to_datetime(datetime.datetime.today())-pd.to_datetime(x)).days))\n",
    "\n",
    "    #merge the stacked df and the main df to form the collective data\n",
    "    profile_df = df.merge(dummies,how='left',on='id')\n",
    "    #profile_df = df.merge(dummies_years,how='left',on='id')\n",
    "    \n",
    "    #we can rename the profile id as the user_id\n",
    "    profile_df.rename(columns={'id':'customer_id'}, inplace=True)\n",
    "    \n",
    "    \n",
    "    #drop duplicated if any\n",
    "    profile_df.drop_duplicates(inplace=True)\n",
    "    #profile_df.dropna(inplace=True)\n",
    "    \n",
    "    return profile_df\n",
    "\n",
    "#Test the clean_profile function\n",
    "profile_df = clean_profile(profile)\n",
    "profile_df.head()"
   ]
  },
  {
   "cell_type": "code",
   "execution_count": 9,
   "metadata": {
    "scrolled": true
   },
   "outputs": [
    {
     "data": {
      "text/html": [
       "<div>\n",
       "<style scoped>\n",
       "    .dataframe tbody tr th:only-of-type {\n",
       "        vertical-align: middle;\n",
       "    }\n",
       "\n",
       "    .dataframe tbody tr th {\n",
       "        vertical-align: top;\n",
       "    }\n",
       "\n",
       "    .dataframe thead th {\n",
       "        text-align: right;\n",
       "    }\n",
       "</style>\n",
       "<table border=\"1\" class=\"dataframe\">\n",
       "  <thead>\n",
       "    <tr style=\"text-align: right;\">\n",
       "      <th></th>\n",
       "      <th>event</th>\n",
       "      <th>person</th>\n",
       "      <th>time</th>\n",
       "      <th>value</th>\n",
       "    </tr>\n",
       "  </thead>\n",
       "  <tbody>\n",
       "    <tr>\n",
       "      <th>0</th>\n",
       "      <td>offer received</td>\n",
       "      <td>78afa995795e4d85b5d9ceeca43f5fef</td>\n",
       "      <td>0</td>\n",
       "      <td>{'offer id': '9b98b8c7a33c4b65b9aebfe6a799e6d9'}</td>\n",
       "    </tr>\n",
       "    <tr>\n",
       "      <th>1</th>\n",
       "      <td>offer received</td>\n",
       "      <td>a03223e636434f42ac4c3df47e8bac43</td>\n",
       "      <td>0</td>\n",
       "      <td>{'offer id': '0b1e1539f2cc45b7b9fa7c272da2e1d7'}</td>\n",
       "    </tr>\n",
       "    <tr>\n",
       "      <th>2</th>\n",
       "      <td>offer received</td>\n",
       "      <td>e2127556f4f64592b11af22de27a7932</td>\n",
       "      <td>0</td>\n",
       "      <td>{'offer id': '2906b810c7d4411798c6938adc9daaa5'}</td>\n",
       "    </tr>\n",
       "    <tr>\n",
       "      <th>3</th>\n",
       "      <td>offer received</td>\n",
       "      <td>8ec6ce2a7e7949b1bf142def7d0e0586</td>\n",
       "      <td>0</td>\n",
       "      <td>{'offer id': 'fafdcd668e3743c1bb461111dcafc2a4'}</td>\n",
       "    </tr>\n",
       "    <tr>\n",
       "      <th>4</th>\n",
       "      <td>offer received</td>\n",
       "      <td>68617ca6246f4fbc85e91a2a49552598</td>\n",
       "      <td>0</td>\n",
       "      <td>{'offer id': '4d5c57ea9a6940dd891ad53e9dbe8da0'}</td>\n",
       "    </tr>\n",
       "  </tbody>\n",
       "</table>\n",
       "</div>"
      ],
      "text/plain": [
       "            event                            person  time  \\\n",
       "0  offer received  78afa995795e4d85b5d9ceeca43f5fef     0   \n",
       "1  offer received  a03223e636434f42ac4c3df47e8bac43     0   \n",
       "2  offer received  e2127556f4f64592b11af22de27a7932     0   \n",
       "3  offer received  8ec6ce2a7e7949b1bf142def7d0e0586     0   \n",
       "4  offer received  68617ca6246f4fbc85e91a2a49552598     0   \n",
       "\n",
       "                                              value  \n",
       "0  {'offer id': '9b98b8c7a33c4b65b9aebfe6a799e6d9'}  \n",
       "1  {'offer id': '0b1e1539f2cc45b7b9fa7c272da2e1d7'}  \n",
       "2  {'offer id': '2906b810c7d4411798c6938adc9daaa5'}  \n",
       "3  {'offer id': 'fafdcd668e3743c1bb461111dcafc2a4'}  \n",
       "4  {'offer id': '4d5c57ea9a6940dd891ad53e9dbe8da0'}  "
      ]
     },
     "execution_count": 9,
     "metadata": {},
     "output_type": "execute_result"
    }
   ],
   "source": [
    "transcript.head(5)"
   ]
  },
  {
   "cell_type": "code",
   "execution_count": 10,
   "metadata": {},
   "outputs": [],
   "source": [
    "def clean_transcript(df):\n",
    "    '''\n",
    "    Dataset contains the following attributes\n",
    "    - person: (string/hash)\n",
    "    - event: (string) offer received, offer viewed, transaction, offer completed\n",
    "    - value: (dictionary) different values depending on event type (offers and transactions)\n",
    "    offer id: (string/hash) not associated with any \"transaction\"\n",
    "    amount: (numeric) money spent in \"transaction\n",
    "    reward: (numeric) money gained from \"offer completed\"\n",
    "    (numeric) hours after start of test\n",
    "    Description: Clean the profile data frame.\n",
    "        - replace every space with underscore (_) to get a valid column name\n",
    "        - Extract dummy or indicator variable from the categorical attribute event\n",
    "        - Merge the dummy data with the main dataset\n",
    "    \n",
    "    Input:\n",
    "        - df: original transcript dataframe\n",
    "    Returns:\n",
    "        - transcript_df - the cleaned transcript dataframe\n",
    "    '''\n",
    "    # Split event into several dummy columns\n",
    "    #create expected fields\n",
    "    transcript_df = df.copy()\n",
    "    #introdue an underscore as a word separator for the events\n",
    "    transcript_df.event = transcript_df.event.str.replace(' ', '_')\n",
    "    \n",
    "    #create offer_if, amount and reward fields from the value collections\n",
    "    transcript_df['offer_id'] = df['value'].apply(lambda x: x['offer_id'] if 'offer_id' in x else None)\n",
    "    transcript_df['amount'] = df['value'].apply(lambda x: x['amount'] if 'amount' in x else None)\n",
    "    transcript_df['reward'] = df['value'].apply(lambda x: x['reward'] if 'reward' in x else None)\n",
    "    \n",
    "    #Drop the value field\n",
    "    transcript_df.drop('value',axis=1,inplace=True)\n",
    "    transcript_df.rename(columns={'person':'customer_id'},inplace=True)\n",
    "    \n",
    "    #Convert transcript time from hours to days\n",
    "    transcript_df['time'] = df['time'] / 24\n",
    "    \n",
    "    #transform the event attribute to create columns for each customer for the offers\n",
    "    transcript_df = transcript_df.groupby(['customer_id','offer_id','event'])['time'].count().unstack()\n",
    "    transcript_df.reset_index(level=[0,1],inplace = True)\n",
    "    \n",
    "    #Replace nan values with 0.0\n",
    "    transcript_df.fillna(0.0, inplace = True)\n",
    "    \n",
    "    return transcript_df\n",
    "\n",
    "transcript_df = clean_transcript(transcript)"
   ]
  },
  {
   "cell_type": "code",
   "execution_count": 11,
   "metadata": {},
   "outputs": [
    {
     "data": {
      "text/html": [
       "<div>\n",
       "<style scoped>\n",
       "    .dataframe tbody tr th:only-of-type {\n",
       "        vertical-align: middle;\n",
       "    }\n",
       "\n",
       "    .dataframe tbody tr th {\n",
       "        vertical-align: top;\n",
       "    }\n",
       "\n",
       "    .dataframe thead th {\n",
       "        text-align: right;\n",
       "    }\n",
       "</style>\n",
       "<table border=\"1\" class=\"dataframe\">\n",
       "  <thead>\n",
       "    <tr style=\"text-align: right;\">\n",
       "      <th>event</th>\n",
       "      <th>customer_id</th>\n",
       "      <th>offer_id</th>\n",
       "      <th>offer_completed</th>\n",
       "      <th>offer_received</th>\n",
       "      <th>offer_viewed</th>\n",
       "    </tr>\n",
       "  </thead>\n",
       "  <tbody>\n",
       "    <tr>\n",
       "      <th>0</th>\n",
       "      <td>0009655768c64bdeb2e877511632db8f</td>\n",
       "      <td>2906b810c7d4411798c6938adc9daaa5</td>\n",
       "      <td>1.0</td>\n",
       "      <td>1.0</td>\n",
       "      <td>0.0</td>\n",
       "    </tr>\n",
       "    <tr>\n",
       "      <th>1</th>\n",
       "      <td>0009655768c64bdeb2e877511632db8f</td>\n",
       "      <td>3f207df678b143eea3cee63160fa8bed</td>\n",
       "      <td>0.0</td>\n",
       "      <td>1.0</td>\n",
       "      <td>1.0</td>\n",
       "    </tr>\n",
       "    <tr>\n",
       "      <th>2</th>\n",
       "      <td>0009655768c64bdeb2e877511632db8f</td>\n",
       "      <td>5a8bc65990b245e5a138643cd4eb9837</td>\n",
       "      <td>0.0</td>\n",
       "      <td>1.0</td>\n",
       "      <td>1.0</td>\n",
       "    </tr>\n",
       "    <tr>\n",
       "      <th>3</th>\n",
       "      <td>0009655768c64bdeb2e877511632db8f</td>\n",
       "      <td>f19421c1d4aa40978ebb69ca19b0e20d</td>\n",
       "      <td>1.0</td>\n",
       "      <td>1.0</td>\n",
       "      <td>1.0</td>\n",
       "    </tr>\n",
       "    <tr>\n",
       "      <th>4</th>\n",
       "      <td>0009655768c64bdeb2e877511632db8f</td>\n",
       "      <td>fafdcd668e3743c1bb461111dcafc2a4</td>\n",
       "      <td>1.0</td>\n",
       "      <td>1.0</td>\n",
       "      <td>1.0</td>\n",
       "    </tr>\n",
       "  </tbody>\n",
       "</table>\n",
       "</div>"
      ],
      "text/plain": [
       "event                       customer_id                          offer_id  \\\n",
       "0      0009655768c64bdeb2e877511632db8f  2906b810c7d4411798c6938adc9daaa5   \n",
       "1      0009655768c64bdeb2e877511632db8f  3f207df678b143eea3cee63160fa8bed   \n",
       "2      0009655768c64bdeb2e877511632db8f  5a8bc65990b245e5a138643cd4eb9837   \n",
       "3      0009655768c64bdeb2e877511632db8f  f19421c1d4aa40978ebb69ca19b0e20d   \n",
       "4      0009655768c64bdeb2e877511632db8f  fafdcd668e3743c1bb461111dcafc2a4   \n",
       "\n",
       "event  offer_completed  offer_received  offer_viewed  \n",
       "0                  1.0             1.0           0.0  \n",
       "1                  0.0             1.0           1.0  \n",
       "2                  0.0             1.0           1.0  \n",
       "3                  1.0             1.0           1.0  \n",
       "4                  1.0             1.0           1.0  "
      ]
     },
     "execution_count": 11,
     "metadata": {},
     "output_type": "execute_result"
    }
   ],
   "source": [
    "transcript_df.head()"
   ]
  },
  {
   "cell_type": "code",
   "execution_count": 12,
   "metadata": {},
   "outputs": [],
   "source": [
    "def combine_data(portfolio_df, profile_df, transcript_df):\n",
    "    \"\"\" Combine transaction - transcript_df, demographic - profile_df and offer data - portfolio_df\n",
    "    Input:\n",
    "    - transcript_df\n",
    "    - profile_df\n",
    "    - portfolio_df\n",
    "    Output:\n",
    "    - merged_df: merged dataframe\n",
    "    \"\"\"\n",
    "    #First merge the field that have a common join field (transcript_df and portfolio_df)\n",
    "    member_transactions = pd.merge(transcript_df, portfolio_df, how='left', on='offer_id')\n",
    "    \n",
    "    #Merge the third dataframe with the common dataset\n",
    "    merged_df = pd.merge(member_transactions, profile_df, how='left', on='customer_id')\n",
    "    \n",
    "    #Codify the offer_ids\n",
    "    offer_idx = list(set(merged_df['offer_id']))\n",
    "    \n",
    "    for i in range(len(offer_idx)):\n",
    "        merged_df['offer_id'] = merged_df['offer_id'].apply(lambda x: '{}'.format(i+1) if x == offer_idx[i] else x)\n",
    "    \n",
    "    #consider an offer to be successful if a viewed offer is completed\n",
    "    merged_df.insert(loc=2, column='offer_successful', value=merged_df['offer_completed'] * merged_df['offer_viewed'])\n",
    "    merged_df['offer_successful'] = merged_df['offer_successful'].apply(lambda x: 1.0 if x > 0 else 0.0)\n",
    "    merged_df.drop(columns=['offer_completed', 'offer_received', 'offer_viewed'], inplace=True)\n",
    "    \n",
    "    return merged_df\n",
    "    \n",
    "merged_df = combine_data(portfolio_df, profile_df, transcript_df)"
   ]
  },
  {
   "cell_type": "code",
   "execution_count": 13,
   "metadata": {},
   "outputs": [
    {
     "data": {
      "text/plain": [
       "(63288, 21)"
      ]
     },
     "execution_count": 13,
     "metadata": {},
     "output_type": "execute_result"
    }
   ],
   "source": [
    "merged_df.shape"
   ]
  },
  {
   "cell_type": "markdown",
   "metadata": {},
   "source": [
    "# Descriptive Analysis and Data Exploration"
   ]
  },
  {
   "cell_type": "markdown",
   "metadata": {},
   "source": [
    "### Descriptive Analysis"
   ]
  },
  {
   "cell_type": "markdown",
   "metadata": {},
   "source": [
    "### Lets use graphs, charts and decriptive statistics to get more insight from each data groups"
   ]
  },
  {
   "cell_type": "code",
   "execution_count": 33,
   "metadata": {},
   "outputs": [
    {
     "data": {
      "text/html": [
       "<div>\n",
       "<style scoped>\n",
       "    .dataframe tbody tr th:only-of-type {\n",
       "        vertical-align: middle;\n",
       "    }\n",
       "\n",
       "    .dataframe tbody tr th {\n",
       "        vertical-align: top;\n",
       "    }\n",
       "\n",
       "    .dataframe thead th {\n",
       "        text-align: right;\n",
       "    }\n",
       "</style>\n",
       "<table border=\"1\" class=\"dataframe\">\n",
       "  <thead>\n",
       "    <tr style=\"text-align: right;\">\n",
       "      <th></th>\n",
       "      <th>age</th>\n",
       "      <th>became_member_on</th>\n",
       "      <th>income</th>\n",
       "      <th>valid</th>\n",
       "      <th>gender_f</th>\n",
       "      <th>gender_m</th>\n",
       "      <th>gender_o</th>\n",
       "    </tr>\n",
       "  </thead>\n",
       "  <tbody>\n",
       "    <tr>\n",
       "      <th>count</th>\n",
       "      <td>14825.000000</td>\n",
       "      <td>14825.000000</td>\n",
       "      <td>14825.000000</td>\n",
       "      <td>14825.0</td>\n",
       "      <td>14825.000000</td>\n",
       "      <td>14825.000000</td>\n",
       "      <td>14825.000000</td>\n",
       "    </tr>\n",
       "    <tr>\n",
       "      <th>mean</th>\n",
       "      <td>54.393524</td>\n",
       "      <td>1865.478988</td>\n",
       "      <td>65404.991568</td>\n",
       "      <td>1.0</td>\n",
       "      <td>0.413423</td>\n",
       "      <td>0.572277</td>\n",
       "      <td>0.014300</td>\n",
       "    </tr>\n",
       "    <tr>\n",
       "      <th>std</th>\n",
       "      <td>17.383705</td>\n",
       "      <td>419.205158</td>\n",
       "      <td>21598.299410</td>\n",
       "      <td>0.0</td>\n",
       "      <td>0.492464</td>\n",
       "      <td>0.494765</td>\n",
       "      <td>0.118729</td>\n",
       "    </tr>\n",
       "    <tr>\n",
       "      <th>min</th>\n",
       "      <td>18.000000</td>\n",
       "      <td>1343.000000</td>\n",
       "      <td>30000.000000</td>\n",
       "      <td>1.0</td>\n",
       "      <td>0.000000</td>\n",
       "      <td>0.000000</td>\n",
       "      <td>0.000000</td>\n",
       "    </tr>\n",
       "    <tr>\n",
       "      <th>25%</th>\n",
       "      <td>42.000000</td>\n",
       "      <td>1551.000000</td>\n",
       "      <td>49000.000000</td>\n",
       "      <td>1.0</td>\n",
       "      <td>0.000000</td>\n",
       "      <td>0.000000</td>\n",
       "      <td>0.000000</td>\n",
       "    </tr>\n",
       "    <tr>\n",
       "      <th>50%</th>\n",
       "      <td>55.000000</td>\n",
       "      <td>1701.000000</td>\n",
       "      <td>64000.000000</td>\n",
       "      <td>1.0</td>\n",
       "      <td>0.000000</td>\n",
       "      <td>1.000000</td>\n",
       "      <td>0.000000</td>\n",
       "    </tr>\n",
       "    <tr>\n",
       "      <th>75%</th>\n",
       "      <td>66.000000</td>\n",
       "      <td>2140.000000</td>\n",
       "      <td>80000.000000</td>\n",
       "      <td>1.0</td>\n",
       "      <td>1.000000</td>\n",
       "      <td>1.000000</td>\n",
       "      <td>0.000000</td>\n",
       "    </tr>\n",
       "    <tr>\n",
       "      <th>max</th>\n",
       "      <td>101.000000</td>\n",
       "      <td>3166.000000</td>\n",
       "      <td>120000.000000</td>\n",
       "      <td>1.0</td>\n",
       "      <td>1.000000</td>\n",
       "      <td>1.000000</td>\n",
       "      <td>1.000000</td>\n",
       "    </tr>\n",
       "  </tbody>\n",
       "</table>\n",
       "</div>"
      ],
      "text/plain": [
       "                age  became_member_on         income    valid      gender_f  \\\n",
       "count  14825.000000      14825.000000   14825.000000  14825.0  14825.000000   \n",
       "mean      54.393524       1865.478988   65404.991568      1.0      0.413423   \n",
       "std       17.383705        419.205158   21598.299410      0.0      0.492464   \n",
       "min       18.000000       1343.000000   30000.000000      1.0      0.000000   \n",
       "25%       42.000000       1551.000000   49000.000000      1.0      0.000000   \n",
       "50%       55.000000       1701.000000   64000.000000      1.0      0.000000   \n",
       "75%       66.000000       2140.000000   80000.000000      1.0      1.000000   \n",
       "max      101.000000       3166.000000  120000.000000      1.0      1.000000   \n",
       "\n",
       "           gender_m      gender_o  \n",
       "count  14825.000000  14825.000000  \n",
       "mean       0.572277      0.014300  \n",
       "std        0.494765      0.118729  \n",
       "min        0.000000      0.000000  \n",
       "25%        0.000000      0.000000  \n",
       "50%        1.000000      0.000000  \n",
       "75%        1.000000      0.000000  \n",
       "max        1.000000      1.000000  "
      ]
     },
     "execution_count": 33,
     "metadata": {},
     "output_type": "execute_result"
    }
   ],
   "source": [
    "profile_df_copy = profile_df.copy()\n",
    "profile_df_copy = profile_df_copy[profile_df_copy['age'] != 118]\n",
    "profile_df_copy = profile_df_copy[profile_df_copy['income'].isnull() == False]\n",
    "profile_df_copy.describe()"
   ]
  },
  {
   "cell_type": "markdown",
   "metadata": {},
   "source": [
    "#### From the above descriptive statistics, the average incomev (revenue generated through the offer) is about USD65,404.99 from a total of 14,825 participants/customers "
   ]
  },
  {
   "cell_type": "code",
   "execution_count": 20,
   "metadata": {},
   "outputs": [
    {
     "data": {
      "image/png": "[encoded data removed]",
      "text/plain": [
       "<matplotlib.figure.Figure at 0x7efcecb3c358>"
      ]
     },
     "metadata": {
      "needs_background": "light"
     },
     "output_type": "display_data"
    }
   ],
   "source": [
    "plt.hist(profile_df_copy['age'], bins=5); "
   ]
  },
  {
   "cell_type": "code",
   "execution_count": 22,
   "metadata": {},
   "outputs": [],
   "source": [
    "valid_income = profile_df_copy[profile_df_copy['income'].isna()==False]"
   ]
  },
  {
   "cell_type": "code",
   "execution_count": 23,
   "metadata": {},
   "outputs": [
    {
     "data": {
      "text/plain": [
       "(array([ 3438.,  4444.,  3780.,  2205.,   958.]),\n",
       " array([  30000.,   48000.,   66000.,   84000.,  102000.,  120000.]),\n",
       " <a list of 5 Patch objects>)"
      ]
     },
     "execution_count": 23,
     "metadata": {},
     "output_type": "execute_result"
    },
    {
     "data": {
      "image/png": "[encoded data removed]",
      "text/plain": [
       "<matplotlib.figure.Figure at 0x7efced120390>"
      ]
     },
     "metadata": {
      "needs_background": "light"
     },
     "output_type": "display_data"
    }
   ],
   "source": [
    "plt.hist(valid_income['income'], bins=5)"
   ]
  },
  {
   "cell_type": "code",
   "execution_count": 24,
   "metadata": {},
   "outputs": [
    {
     "data": {
      "text/html": [
       "<div>\n",
       "<style scoped>\n",
       "    .dataframe tbody tr th:only-of-type {\n",
       "        vertical-align: middle;\n",
       "    }\n",
       "\n",
       "    .dataframe tbody tr th {\n",
       "        vertical-align: top;\n",
       "    }\n",
       "\n",
       "    .dataframe thead th {\n",
       "        text-align: right;\n",
       "    }\n",
       "</style>\n",
       "<table border=\"1\" class=\"dataframe\">\n",
       "  <thead>\n",
       "    <tr style=\"text-align: right;\">\n",
       "      <th>event</th>\n",
       "      <th>offer_completed</th>\n",
       "      <th>offer_received</th>\n",
       "      <th>offer_viewed</th>\n",
       "    </tr>\n",
       "  </thead>\n",
       "  <tbody>\n",
       "    <tr>\n",
       "      <th>count</th>\n",
       "      <td>63288.000000</td>\n",
       "      <td>63288.000000</td>\n",
       "      <td>63288.00000</td>\n",
       "    </tr>\n",
       "    <tr>\n",
       "      <th>mean</th>\n",
       "      <td>0.530575</td>\n",
       "      <td>1.205236</td>\n",
       "      <td>0.91210</td>\n",
       "    </tr>\n",
       "    <tr>\n",
       "      <th>std</th>\n",
       "      <td>0.637582</td>\n",
       "      <td>0.453699</td>\n",
       "      <td>0.61458</td>\n",
       "    </tr>\n",
       "    <tr>\n",
       "      <th>min</th>\n",
       "      <td>0.000000</td>\n",
       "      <td>1.000000</td>\n",
       "      <td>0.00000</td>\n",
       "    </tr>\n",
       "    <tr>\n",
       "      <th>25%</th>\n",
       "      <td>0.000000</td>\n",
       "      <td>1.000000</td>\n",
       "      <td>1.00000</td>\n",
       "    </tr>\n",
       "    <tr>\n",
       "      <th>50%</th>\n",
       "      <td>0.000000</td>\n",
       "      <td>1.000000</td>\n",
       "      <td>1.00000</td>\n",
       "    </tr>\n",
       "    <tr>\n",
       "      <th>75%</th>\n",
       "      <td>1.000000</td>\n",
       "      <td>1.000000</td>\n",
       "      <td>1.00000</td>\n",
       "    </tr>\n",
       "    <tr>\n",
       "      <th>max</th>\n",
       "      <td>4.000000</td>\n",
       "      <td>5.000000</td>\n",
       "      <td>5.00000</td>\n",
       "    </tr>\n",
       "  </tbody>\n",
       "</table>\n",
       "</div>"
      ],
      "text/plain": [
       "event  offer_completed  offer_received  offer_viewed\n",
       "count     63288.000000    63288.000000   63288.00000\n",
       "mean          0.530575        1.205236       0.91210\n",
       "std           0.637582        0.453699       0.61458\n",
       "min           0.000000        1.000000       0.00000\n",
       "25%           0.000000        1.000000       1.00000\n",
       "50%           0.000000        1.000000       1.00000\n",
       "75%           1.000000        1.000000       1.00000\n",
       "max           4.000000        5.000000       5.00000"
      ]
     },
     "execution_count": 24,
     "metadata": {},
     "output_type": "execute_result"
    }
   ],
   "source": [
    "transcript_df.describe()"
   ]
  },
  {
   "cell_type": "markdown",
   "metadata": {},
   "source": [
    "### From the transaction descriptive statistics above, from the mean (offer completed = 0.53 and offer viewed = 0.91, about 39% difference), some of the customers that viewed the received offers were not able to complete the purchase whereas 67% of the offers received were not completed."
   ]
  },
  {
   "cell_type": "code",
   "execution_count": 25,
   "metadata": {},
   "outputs": [
    {
     "data": {
      "image/png": "[encoded data removed]",
      "text/plain": [
       "<matplotlib.figure.Figure at 0x7efce56bd5f8>"
      ]
     },
     "metadata": {
      "needs_background": "light"
     },
     "output_type": "display_data"
    }
   ],
   "source": [
    "transcript_df_copy = transcript_df.copy()\n",
    "offer_idx = list(set(transcript_df_copy.offer_id))\n",
    "for i in range(len(offer_idx)):\n",
    "    transcript_df_copy['offer_id'] = transcript_df_copy['offer_id'].apply(lambda x: '{}'.format(i+1) if x == offer_idx[i] else x)\n",
    "\n",
    "boxplot = transcript_df_copy.boxplot(column=['offer_completed', 'offer_received', 'offer_viewed'], by='offer_id', layout=(3, 1), fontsize=15) "
   ]
  },
  {
   "cell_type": "code",
   "execution_count": 26,
   "metadata": {},
   "outputs": [
    {
     "data": {
      "image/png": "[encoded data removed]",
      "text/plain": [
       "<matplotlib.figure.Figure at 0x7efcd14f60f0>"
      ]
     },
     "metadata": {
      "needs_background": "light"
     },
     "output_type": "display_data"
    }
   ],
   "source": [
    "axes = transcript_df_copy.plot.kde()"
   ]
  },
  {
   "cell_type": "markdown",
   "metadata": {},
   "source": [
    "#### From the above visual, although all the participants received the information to participate in the offers, only about to 38% of the population completed their offers."
   ]
  },
  {
   "cell_type": "markdown",
   "metadata": {},
   "source": [
    "### The merged data show the summary of the three datasets and also reveals the number of records available"
   ]
  },
  {
   "cell_type": "code",
   "execution_count": 39,
   "metadata": {
    "scrolled": true
   },
   "outputs": [
    {
     "data": {
      "text/html": [
       "<div>\n",
       "<style scoped>\n",
       "    .dataframe tbody tr th:only-of-type {\n",
       "        vertical-align: middle;\n",
       "    }\n",
       "\n",
       "    .dataframe tbody tr th {\n",
       "        vertical-align: top;\n",
       "    }\n",
       "\n",
       "    .dataframe thead th {\n",
       "        text-align: right;\n",
       "    }\n",
       "</style>\n",
       "<table border=\"1\" class=\"dataframe\">\n",
       "  <thead>\n",
       "    <tr style=\"text-align: right;\">\n",
       "      <th></th>\n",
       "      <th>customer_id</th>\n",
       "      <th>offer_id</th>\n",
       "      <th>offer_successful</th>\n",
       "      <th>difficulty</th>\n",
       "      <th>duration</th>\n",
       "      <th>reward</th>\n",
       "      <th>email</th>\n",
       "      <th>mobile</th>\n",
       "      <th>social</th>\n",
       "      <th>web</th>\n",
       "      <th>...</th>\n",
       "      <th>offer_discount</th>\n",
       "      <th>offer_informational</th>\n",
       "      <th>age</th>\n",
       "      <th>became_member_on</th>\n",
       "      <th>gender</th>\n",
       "      <th>income</th>\n",
       "      <th>valid</th>\n",
       "      <th>gender_f</th>\n",
       "      <th>gender_m</th>\n",
       "      <th>gender_o</th>\n",
       "    </tr>\n",
       "  </thead>\n",
       "  <tbody>\n",
       "    <tr>\n",
       "      <th>0</th>\n",
       "      <td>0009655768c64bdeb2e877511632db8f</td>\n",
       "      <td>4</td>\n",
       "      <td>0.0</td>\n",
       "      <td>10</td>\n",
       "      <td>7</td>\n",
       "      <td>2</td>\n",
       "      <td>1</td>\n",
       "      <td>1</td>\n",
       "      <td>0</td>\n",
       "      <td>1</td>\n",
       "      <td>...</td>\n",
       "      <td>1</td>\n",
       "      <td>0</td>\n",
       "      <td>33</td>\n",
       "      <td>1804</td>\n",
       "      <td>M</td>\n",
       "      <td>72000.0</td>\n",
       "      <td>1</td>\n",
       "      <td>0</td>\n",
       "      <td>1</td>\n",
       "      <td>0</td>\n",
       "    </tr>\n",
       "    <tr>\n",
       "      <th>1</th>\n",
       "      <td>0009655768c64bdeb2e877511632db8f</td>\n",
       "      <td>9</td>\n",
       "      <td>0.0</td>\n",
       "      <td>0</td>\n",
       "      <td>4</td>\n",
       "      <td>0</td>\n",
       "      <td>1</td>\n",
       "      <td>1</td>\n",
       "      <td>0</td>\n",
       "      <td>1</td>\n",
       "      <td>...</td>\n",
       "      <td>0</td>\n",
       "      <td>1</td>\n",
       "      <td>33</td>\n",
       "      <td>1804</td>\n",
       "      <td>M</td>\n",
       "      <td>72000.0</td>\n",
       "      <td>1</td>\n",
       "      <td>0</td>\n",
       "      <td>1</td>\n",
       "      <td>0</td>\n",
       "    </tr>\n",
       "    <tr>\n",
       "      <th>2</th>\n",
       "      <td>0009655768c64bdeb2e877511632db8f</td>\n",
       "      <td>3</td>\n",
       "      <td>0.0</td>\n",
       "      <td>0</td>\n",
       "      <td>3</td>\n",
       "      <td>0</td>\n",
       "      <td>1</td>\n",
       "      <td>1</td>\n",
       "      <td>1</td>\n",
       "      <td>0</td>\n",
       "      <td>...</td>\n",
       "      <td>0</td>\n",
       "      <td>1</td>\n",
       "      <td>33</td>\n",
       "      <td>1804</td>\n",
       "      <td>M</td>\n",
       "      <td>72000.0</td>\n",
       "      <td>1</td>\n",
       "      <td>0</td>\n",
       "      <td>1</td>\n",
       "      <td>0</td>\n",
       "    </tr>\n",
       "    <tr>\n",
       "      <th>3</th>\n",
       "      <td>0009655768c64bdeb2e877511632db8f</td>\n",
       "      <td>1</td>\n",
       "      <td>1.0</td>\n",
       "      <td>5</td>\n",
       "      <td>5</td>\n",
       "      <td>5</td>\n",
       "      <td>1</td>\n",
       "      <td>1</td>\n",
       "      <td>1</td>\n",
       "      <td>1</td>\n",
       "      <td>...</td>\n",
       "      <td>0</td>\n",
       "      <td>0</td>\n",
       "      <td>33</td>\n",
       "      <td>1804</td>\n",
       "      <td>M</td>\n",
       "      <td>72000.0</td>\n",
       "      <td>1</td>\n",
       "      <td>0</td>\n",
       "      <td>1</td>\n",
       "      <td>0</td>\n",
       "    </tr>\n",
       "    <tr>\n",
       "      <th>4</th>\n",
       "      <td>0009655768c64bdeb2e877511632db8f</td>\n",
       "      <td>10</td>\n",
       "      <td>1.0</td>\n",
       "      <td>10</td>\n",
       "      <td>10</td>\n",
       "      <td>2</td>\n",
       "      <td>1</td>\n",
       "      <td>1</td>\n",
       "      <td>1</td>\n",
       "      <td>1</td>\n",
       "      <td>...</td>\n",
       "      <td>1</td>\n",
       "      <td>0</td>\n",
       "      <td>33</td>\n",
       "      <td>1804</td>\n",
       "      <td>M</td>\n",
       "      <td>72000.0</td>\n",
       "      <td>1</td>\n",
       "      <td>0</td>\n",
       "      <td>1</td>\n",
       "      <td>0</td>\n",
       "    </tr>\n",
       "    <tr>\n",
       "      <th>5</th>\n",
       "      <td>00116118485d4dfda04fdbaba9a87b5c</td>\n",
       "      <td>1</td>\n",
       "      <td>0.0</td>\n",
       "      <td>5</td>\n",
       "      <td>5</td>\n",
       "      <td>5</td>\n",
       "      <td>1</td>\n",
       "      <td>1</td>\n",
       "      <td>1</td>\n",
       "      <td>1</td>\n",
       "      <td>...</td>\n",
       "      <td>0</td>\n",
       "      <td>0</td>\n",
       "      <td>118</td>\n",
       "      <td>1435</td>\n",
       "      <td>None</td>\n",
       "      <td>NaN</td>\n",
       "      <td>0</td>\n",
       "      <td>0</td>\n",
       "      <td>0</td>\n",
       "      <td>0</td>\n",
       "    </tr>\n",
       "    <tr>\n",
       "      <th>6</th>\n",
       "      <td>0011e0d4e6b944f998e987f904e8c1e5</td>\n",
       "      <td>8</td>\n",
       "      <td>1.0</td>\n",
       "      <td>20</td>\n",
       "      <td>10</td>\n",
       "      <td>5</td>\n",
       "      <td>1</td>\n",
       "      <td>0</td>\n",
       "      <td>0</td>\n",
       "      <td>1</td>\n",
       "      <td>...</td>\n",
       "      <td>1</td>\n",
       "      <td>0</td>\n",
       "      <td>40</td>\n",
       "      <td>1541</td>\n",
       "      <td>O</td>\n",
       "      <td>57000.0</td>\n",
       "      <td>1</td>\n",
       "      <td>0</td>\n",
       "      <td>0</td>\n",
       "      <td>1</td>\n",
       "    </tr>\n",
       "    <tr>\n",
       "      <th>7</th>\n",
       "      <td>0011e0d4e6b944f998e987f904e8c1e5</td>\n",
       "      <td>6</td>\n",
       "      <td>1.0</td>\n",
       "      <td>7</td>\n",
       "      <td>7</td>\n",
       "      <td>3</td>\n",
       "      <td>1</td>\n",
       "      <td>1</td>\n",
       "      <td>1</td>\n",
       "      <td>1</td>\n",
       "      <td>...</td>\n",
       "      <td>1</td>\n",
       "      <td>0</td>\n",
       "      <td>40</td>\n",
       "      <td>1541</td>\n",
       "      <td>O</td>\n",
       "      <td>57000.0</td>\n",
       "      <td>1</td>\n",
       "      <td>0</td>\n",
       "      <td>0</td>\n",
       "      <td>1</td>\n",
       "    </tr>\n",
       "    <tr>\n",
       "      <th>8</th>\n",
       "      <td>0011e0d4e6b944f998e987f904e8c1e5</td>\n",
       "      <td>9</td>\n",
       "      <td>0.0</td>\n",
       "      <td>0</td>\n",
       "      <td>4</td>\n",
       "      <td>0</td>\n",
       "      <td>1</td>\n",
       "      <td>1</td>\n",
       "      <td>0</td>\n",
       "      <td>1</td>\n",
       "      <td>...</td>\n",
       "      <td>0</td>\n",
       "      <td>1</td>\n",
       "      <td>40</td>\n",
       "      <td>1541</td>\n",
       "      <td>O</td>\n",
       "      <td>57000.0</td>\n",
       "      <td>1</td>\n",
       "      <td>0</td>\n",
       "      <td>0</td>\n",
       "      <td>1</td>\n",
       "    </tr>\n",
       "    <tr>\n",
       "      <th>9</th>\n",
       "      <td>0011e0d4e6b944f998e987f904e8c1e5</td>\n",
       "      <td>3</td>\n",
       "      <td>0.0</td>\n",
       "      <td>0</td>\n",
       "      <td>3</td>\n",
       "      <td>0</td>\n",
       "      <td>1</td>\n",
       "      <td>1</td>\n",
       "      <td>1</td>\n",
       "      <td>0</td>\n",
       "      <td>...</td>\n",
       "      <td>0</td>\n",
       "      <td>1</td>\n",
       "      <td>40</td>\n",
       "      <td>1541</td>\n",
       "      <td>O</td>\n",
       "      <td>57000.0</td>\n",
       "      <td>1</td>\n",
       "      <td>0</td>\n",
       "      <td>0</td>\n",
       "      <td>1</td>\n",
       "    </tr>\n",
       "  </tbody>\n",
       "</table>\n",
       "<p>10 rows × 21 columns</p>\n",
       "</div>"
      ],
      "text/plain": [
       "                        customer_id offer_id  offer_successful  difficulty  \\\n",
       "0  0009655768c64bdeb2e877511632db8f        4               0.0          10   \n",
       "1  0009655768c64bdeb2e877511632db8f        9               0.0           0   \n",
       "2  0009655768c64bdeb2e877511632db8f        3               0.0           0   \n",
       "3  0009655768c64bdeb2e877511632db8f        1               1.0           5   \n",
       "4  0009655768c64bdeb2e877511632db8f       10               1.0          10   \n",
       "5  00116118485d4dfda04fdbaba9a87b5c        1               0.0           5   \n",
       "6  0011e0d4e6b944f998e987f904e8c1e5        8               1.0          20   \n",
       "7  0011e0d4e6b944f998e987f904e8c1e5        6               1.0           7   \n",
       "8  0011e0d4e6b944f998e987f904e8c1e5        9               0.0           0   \n",
       "9  0011e0d4e6b944f998e987f904e8c1e5        3               0.0           0   \n",
       "\n",
       "   duration  reward  email  mobile  social  web    ...     offer_discount  \\\n",
       "0         7       2      1       1       0    1    ...                  1   \n",
       "1         4       0      1       1       0    1    ...                  0   \n",
       "2         3       0      1       1       1    0    ...                  0   \n",
       "3         5       5      1       1       1    1    ...                  0   \n",
       "4        10       2      1       1       1    1    ...                  1   \n",
       "5         5       5      1       1       1    1    ...                  0   \n",
       "6        10       5      1       0       0    1    ...                  1   \n",
       "7         7       3      1       1       1    1    ...                  1   \n",
       "8         4       0      1       1       0    1    ...                  0   \n",
       "9         3       0      1       1       1    0    ...                  0   \n",
       "\n",
       "   offer_informational  age  became_member_on  gender   income  valid  \\\n",
       "0                    0   33              1804       M  72000.0      1   \n",
       "1                    1   33              1804       M  72000.0      1   \n",
       "2                    1   33              1804       M  72000.0      1   \n",
       "3                    0   33              1804       M  72000.0      1   \n",
       "4                    0   33              1804       M  72000.0      1   \n",
       "5                    0  118              1435    None      NaN      0   \n",
       "6                    0   40              1541       O  57000.0      1   \n",
       "7                    0   40              1541       O  57000.0      1   \n",
       "8                    1   40              1541       O  57000.0      1   \n",
       "9                    1   40              1541       O  57000.0      1   \n",
       "\n",
       "   gender_f  gender_m  gender_o  \n",
       "0         0         1         0  \n",
       "1         0         1         0  \n",
       "2         0         1         0  \n",
       "3         0         1         0  \n",
       "4         0         1         0  \n",
       "5         0         0         0  \n",
       "6         0         0         1  \n",
       "7         0         0         1  \n",
       "8         0         0         1  \n",
       "9         0         0         1  \n",
       "\n",
       "[10 rows x 21 columns]"
      ]
     },
     "execution_count": 39,
     "metadata": {},
     "output_type": "execute_result"
    }
   ],
   "source": [
    "merged_df.head(10)"
   ]
  },
  {
   "cell_type": "code",
   "execution_count": 29,
   "metadata": {},
   "outputs": [
    {
     "data": {
      "text/html": [
       "<div>\n",
       "<style scoped>\n",
       "    .dataframe tbody tr th:only-of-type {\n",
       "        vertical-align: middle;\n",
       "    }\n",
       "\n",
       "    .dataframe tbody tr th {\n",
       "        vertical-align: top;\n",
       "    }\n",
       "\n",
       "    .dataframe thead th {\n",
       "        text-align: right;\n",
       "    }\n",
       "</style>\n",
       "<table border=\"1\" class=\"dataframe\">\n",
       "  <thead>\n",
       "    <tr style=\"text-align: right;\">\n",
       "      <th></th>\n",
       "      <th>offer_successful</th>\n",
       "      <th>difficulty</th>\n",
       "      <th>duration</th>\n",
       "      <th>reward</th>\n",
       "      <th>email</th>\n",
       "      <th>mobile</th>\n",
       "      <th>social</th>\n",
       "      <th>web</th>\n",
       "      <th>offer_bogo</th>\n",
       "      <th>offer_discount</th>\n",
       "      <th>offer_informational</th>\n",
       "      <th>age</th>\n",
       "      <th>became_member_on</th>\n",
       "      <th>income</th>\n",
       "      <th>valid</th>\n",
       "      <th>gender_f</th>\n",
       "      <th>gender_m</th>\n",
       "      <th>gender_o</th>\n",
       "    </tr>\n",
       "  </thead>\n",
       "  <tbody>\n",
       "    <tr>\n",
       "      <th>count</th>\n",
       "      <td>63288.000000</td>\n",
       "      <td>63288.000000</td>\n",
       "      <td>63288.000000</td>\n",
       "      <td>63288.000000</td>\n",
       "      <td>63288.0</td>\n",
       "      <td>63288.000000</td>\n",
       "      <td>63288.000000</td>\n",
       "      <td>63288.000000</td>\n",
       "      <td>63288.000000</td>\n",
       "      <td>63288.000000</td>\n",
       "      <td>63288.000000</td>\n",
       "      <td>63288.000000</td>\n",
       "      <td>63288.000000</td>\n",
       "      <td>55222.000000</td>\n",
       "      <td>63288.000000</td>\n",
       "      <td>63288.000000</td>\n",
       "      <td>63288.000000</td>\n",
       "      <td>63288.000000</td>\n",
       "    </tr>\n",
       "    <tr>\n",
       "      <th>mean</th>\n",
       "      <td>0.386487</td>\n",
       "      <td>7.711572</td>\n",
       "      <td>6.504819</td>\n",
       "      <td>4.206232</td>\n",
       "      <td>1.0</td>\n",
       "      <td>0.899286</td>\n",
       "      <td>0.599529</td>\n",
       "      <td>0.799425</td>\n",
       "      <td>0.400092</td>\n",
       "      <td>0.400013</td>\n",
       "      <td>0.199896</td>\n",
       "      <td>62.462110</td>\n",
       "      <td>1859.721053</td>\n",
       "      <td>65388.595125</td>\n",
       "      <td>0.872551</td>\n",
       "      <td>0.360384</td>\n",
       "      <td>0.500016</td>\n",
       "      <td>0.012151</td>\n",
       "    </tr>\n",
       "    <tr>\n",
       "      <th>std</th>\n",
       "      <td>0.486948</td>\n",
       "      <td>5.541480</td>\n",
       "      <td>2.203565</td>\n",
       "      <td>3.402914</td>\n",
       "      <td>0.0</td>\n",
       "      <td>0.300952</td>\n",
       "      <td>0.489998</td>\n",
       "      <td>0.400434</td>\n",
       "      <td>0.489921</td>\n",
       "      <td>0.489904</td>\n",
       "      <td>0.399925</td>\n",
       "      <td>26.729957</td>\n",
       "      <td>411.659882</td>\n",
       "      <td>21626.373809</td>\n",
       "      <td>0.333478</td>\n",
       "      <td>0.480116</td>\n",
       "      <td>0.500004</td>\n",
       "      <td>0.109560</td>\n",
       "    </tr>\n",
       "    <tr>\n",
       "      <th>min</th>\n",
       "      <td>0.000000</td>\n",
       "      <td>0.000000</td>\n",
       "      <td>3.000000</td>\n",
       "      <td>0.000000</td>\n",
       "      <td>1.0</td>\n",
       "      <td>0.000000</td>\n",
       "      <td>0.000000</td>\n",
       "      <td>0.000000</td>\n",
       "      <td>0.000000</td>\n",
       "      <td>0.000000</td>\n",
       "      <td>0.000000</td>\n",
       "      <td>18.000000</td>\n",
       "      <td>1343.000000</td>\n",
       "      <td>30000.000000</td>\n",
       "      <td>0.000000</td>\n",
       "      <td>0.000000</td>\n",
       "      <td>0.000000</td>\n",
       "      <td>0.000000</td>\n",
       "    </tr>\n",
       "    <tr>\n",
       "      <th>25%</th>\n",
       "      <td>0.000000</td>\n",
       "      <td>5.000000</td>\n",
       "      <td>5.000000</td>\n",
       "      <td>2.000000</td>\n",
       "      <td>1.0</td>\n",
       "      <td>1.000000</td>\n",
       "      <td>0.000000</td>\n",
       "      <td>1.000000</td>\n",
       "      <td>0.000000</td>\n",
       "      <td>0.000000</td>\n",
       "      <td>0.000000</td>\n",
       "      <td>45.000000</td>\n",
       "      <td>1551.000000</td>\n",
       "      <td>49000.000000</td>\n",
       "      <td>1.000000</td>\n",
       "      <td>0.000000</td>\n",
       "      <td>0.000000</td>\n",
       "      <td>0.000000</td>\n",
       "    </tr>\n",
       "    <tr>\n",
       "      <th>50%</th>\n",
       "      <td>0.000000</td>\n",
       "      <td>10.000000</td>\n",
       "      <td>7.000000</td>\n",
       "      <td>5.000000</td>\n",
       "      <td>1.0</td>\n",
       "      <td>1.000000</td>\n",
       "      <td>1.000000</td>\n",
       "      <td>1.000000</td>\n",
       "      <td>0.000000</td>\n",
       "      <td>0.000000</td>\n",
       "      <td>0.000000</td>\n",
       "      <td>58.000000</td>\n",
       "      <td>1701.000000</td>\n",
       "      <td>63000.000000</td>\n",
       "      <td>1.000000</td>\n",
       "      <td>0.000000</td>\n",
       "      <td>1.000000</td>\n",
       "      <td>0.000000</td>\n",
       "    </tr>\n",
       "    <tr>\n",
       "      <th>75%</th>\n",
       "      <td>1.000000</td>\n",
       "      <td>10.000000</td>\n",
       "      <td>7.000000</td>\n",
       "      <td>5.000000</td>\n",
       "      <td>1.0</td>\n",
       "      <td>1.000000</td>\n",
       "      <td>1.000000</td>\n",
       "      <td>1.000000</td>\n",
       "      <td>1.000000</td>\n",
       "      <td>1.000000</td>\n",
       "      <td>0.000000</td>\n",
       "      <td>73.000000</td>\n",
       "      <td>2134.000000</td>\n",
       "      <td>80000.000000</td>\n",
       "      <td>1.000000</td>\n",
       "      <td>1.000000</td>\n",
       "      <td>1.000000</td>\n",
       "      <td>0.000000</td>\n",
       "    </tr>\n",
       "    <tr>\n",
       "      <th>max</th>\n",
       "      <td>1.000000</td>\n",
       "      <td>20.000000</td>\n",
       "      <td>10.000000</td>\n",
       "      <td>10.000000</td>\n",
       "      <td>1.0</td>\n",
       "      <td>1.000000</td>\n",
       "      <td>1.000000</td>\n",
       "      <td>1.000000</td>\n",
       "      <td>1.000000</td>\n",
       "      <td>1.000000</td>\n",
       "      <td>1.000000</td>\n",
       "      <td>118.000000</td>\n",
       "      <td>3166.000000</td>\n",
       "      <td>120000.000000</td>\n",
       "      <td>1.000000</td>\n",
       "      <td>1.000000</td>\n",
       "      <td>1.000000</td>\n",
       "      <td>1.000000</td>\n",
       "    </tr>\n",
       "  </tbody>\n",
       "</table>\n",
       "</div>"
      ],
      "text/plain": [
       "       offer_successful    difficulty      duration        reward    email  \\\n",
       "count      63288.000000  63288.000000  63288.000000  63288.000000  63288.0   \n",
       "mean           0.386487      7.711572      6.504819      4.206232      1.0   \n",
       "std            0.486948      5.541480      2.203565      3.402914      0.0   \n",
       "min            0.000000      0.000000      3.000000      0.000000      1.0   \n",
       "25%            0.000000      5.000000      5.000000      2.000000      1.0   \n",
       "50%            0.000000     10.000000      7.000000      5.000000      1.0   \n",
       "75%            1.000000     10.000000      7.000000      5.000000      1.0   \n",
       "max            1.000000     20.000000     10.000000     10.000000      1.0   \n",
       "\n",
       "             mobile        social           web    offer_bogo  offer_discount  \\\n",
       "count  63288.000000  63288.000000  63288.000000  63288.000000    63288.000000   \n",
       "mean       0.899286      0.599529      0.799425      0.400092        0.400013   \n",
       "std        0.300952      0.489998      0.400434      0.489921        0.489904   \n",
       "min        0.000000      0.000000      0.000000      0.000000        0.000000   \n",
       "25%        1.000000      0.000000      1.000000      0.000000        0.000000   \n",
       "50%        1.000000      1.000000      1.000000      0.000000        0.000000   \n",
       "75%        1.000000      1.000000      1.000000      1.000000        1.000000   \n",
       "max        1.000000      1.000000      1.000000      1.000000        1.000000   \n",
       "\n",
       "       offer_informational           age  became_member_on         income  \\\n",
       "count         63288.000000  63288.000000      63288.000000   55222.000000   \n",
       "mean              0.199896     62.462110       1859.721053   65388.595125   \n",
       "std               0.399925     26.729957        411.659882   21626.373809   \n",
       "min               0.000000     18.000000       1343.000000   30000.000000   \n",
       "25%               0.000000     45.000000       1551.000000   49000.000000   \n",
       "50%               0.000000     58.000000       1701.000000   63000.000000   \n",
       "75%               0.000000     73.000000       2134.000000   80000.000000   \n",
       "max               1.000000    118.000000       3166.000000  120000.000000   \n",
       "\n",
       "              valid      gender_f      gender_m      gender_o  \n",
       "count  63288.000000  63288.000000  63288.000000  63288.000000  \n",
       "mean       0.872551      0.360384      0.500016      0.012151  \n",
       "std        0.333478      0.480116      0.500004      0.109560  \n",
       "min        0.000000      0.000000      0.000000      0.000000  \n",
       "25%        1.000000      0.000000      0.000000      0.000000  \n",
       "50%        1.000000      0.000000      1.000000      0.000000  \n",
       "75%        1.000000      1.000000      1.000000      0.000000  \n",
       "max        1.000000      1.000000      1.000000      1.000000  "
      ]
     },
     "execution_count": 29,
     "metadata": {},
     "output_type": "execute_result"
    }
   ],
   "source": [
    "merged_df.describe()"
   ]
  },
  {
   "cell_type": "markdown",
   "metadata": {},
   "source": [
    "# Determine which demographic groups respond best to which offer type"
   ]
  },
  {
   "cell_type": "code",
   "execution_count": 30,
   "metadata": {},
   "outputs": [
    {
     "data": {
      "text/plain": [
       "10    4433\n",
       "6     4313\n",
       "1     3655\n",
       "5     2843\n",
       "7     2825\n",
       "2     2504\n",
       "4     2415\n",
       "8     1472\n",
       "Name: offer_id, dtype: int64"
      ]
     },
     "execution_count": 30,
     "metadata": {},
     "output_type": "execute_result"
    }
   ],
   "source": [
    "merged_df[merged_df['offer_successful'] == 1].offer_id.value_counts()"
   ]
  },
  {
   "cell_type": "markdown",
   "metadata": {},
   "source": [
    "#### Provide descriptive statistics for all cases where customer's income was not reflected"
   ]
  },
  {
   "cell_type": "code",
   "execution_count": 17,
   "metadata": {},
   "outputs": [
    {
     "data": {
      "text/html": [
       "<div>\n",
       "<style scoped>\n",
       "    .dataframe tbody tr th:only-of-type {\n",
       "        vertical-align: middle;\n",
       "    }\n",
       "\n",
       "    .dataframe tbody tr th {\n",
       "        vertical-align: top;\n",
       "    }\n",
       "\n",
       "    .dataframe thead th {\n",
       "        text-align: right;\n",
       "    }\n",
       "</style>\n",
       "<table border=\"1\" class=\"dataframe\">\n",
       "  <thead>\n",
       "    <tr style=\"text-align: right;\">\n",
       "      <th></th>\n",
       "      <th>age</th>\n",
       "      <th>income</th>\n",
       "    </tr>\n",
       "  </thead>\n",
       "  <tbody>\n",
       "    <tr>\n",
       "      <th>count</th>\n",
       "      <td>8066.0</td>\n",
       "      <td>0.0</td>\n",
       "    </tr>\n",
       "    <tr>\n",
       "      <th>mean</th>\n",
       "      <td>118.0</td>\n",
       "      <td>NaN</td>\n",
       "    </tr>\n",
       "    <tr>\n",
       "      <th>std</th>\n",
       "      <td>0.0</td>\n",
       "      <td>NaN</td>\n",
       "    </tr>\n",
       "    <tr>\n",
       "      <th>min</th>\n",
       "      <td>118.0</td>\n",
       "      <td>NaN</td>\n",
       "    </tr>\n",
       "    <tr>\n",
       "      <th>25%</th>\n",
       "      <td>118.0</td>\n",
       "      <td>NaN</td>\n",
       "    </tr>\n",
       "    <tr>\n",
       "      <th>50%</th>\n",
       "      <td>118.0</td>\n",
       "      <td>NaN</td>\n",
       "    </tr>\n",
       "    <tr>\n",
       "      <th>75%</th>\n",
       "      <td>118.0</td>\n",
       "      <td>NaN</td>\n",
       "    </tr>\n",
       "    <tr>\n",
       "      <th>max</th>\n",
       "      <td>118.0</td>\n",
       "      <td>NaN</td>\n",
       "    </tr>\n",
       "  </tbody>\n",
       "</table>\n",
       "</div>"
      ],
      "text/plain": [
       "          age  income\n",
       "count  8066.0     0.0\n",
       "mean    118.0     NaN\n",
       "std       0.0     NaN\n",
       "min     118.0     NaN\n",
       "25%     118.0     NaN\n",
       "50%     118.0     NaN\n",
       "75%     118.0     NaN\n",
       "max     118.0     NaN"
      ]
     },
     "execution_count": 17,
     "metadata": {},
     "output_type": "execute_result"
    }
   ],
   "source": [
    "merged_df[merged_df['income'].isnull()][['age', 'income']].describe()"
   ]
  },
  {
   "cell_type": "markdown",
   "metadata": {},
   "source": [
    "#### Provide descriptive statistics for all cases where customers' income exist"
   ]
  },
  {
   "cell_type": "code",
   "execution_count": 31,
   "metadata": {
    "scrolled": true
   },
   "outputs": [
    {
     "data": {
      "text/html": [
       "<div>\n",
       "<style scoped>\n",
       "    .dataframe tbody tr th:only-of-type {\n",
       "        vertical-align: middle;\n",
       "    }\n",
       "\n",
       "    .dataframe tbody tr th {\n",
       "        vertical-align: top;\n",
       "    }\n",
       "\n",
       "    .dataframe thead th {\n",
       "        text-align: right;\n",
       "    }\n",
       "</style>\n",
       "<table border=\"1\" class=\"dataframe\">\n",
       "  <thead>\n",
       "    <tr style=\"text-align: right;\">\n",
       "      <th></th>\n",
       "      <th>age</th>\n",
       "      <th>income</th>\n",
       "    </tr>\n",
       "  </thead>\n",
       "  <tbody>\n",
       "    <tr>\n",
       "      <th>count</th>\n",
       "      <td>55222.000000</td>\n",
       "      <td>55222.000000</td>\n",
       "    </tr>\n",
       "    <tr>\n",
       "      <th>mean</th>\n",
       "      <td>54.349969</td>\n",
       "      <td>65388.595125</td>\n",
       "    </tr>\n",
       "    <tr>\n",
       "      <th>std</th>\n",
       "      <td>17.392733</td>\n",
       "      <td>21626.373809</td>\n",
       "    </tr>\n",
       "    <tr>\n",
       "      <th>min</th>\n",
       "      <td>18.000000</td>\n",
       "      <td>30000.000000</td>\n",
       "    </tr>\n",
       "    <tr>\n",
       "      <th>25%</th>\n",
       "      <td>42.000000</td>\n",
       "      <td>49000.000000</td>\n",
       "    </tr>\n",
       "    <tr>\n",
       "      <th>50%</th>\n",
       "      <td>55.000000</td>\n",
       "      <td>63000.000000</td>\n",
       "    </tr>\n",
       "    <tr>\n",
       "      <th>75%</th>\n",
       "      <td>66.000000</td>\n",
       "      <td>80000.000000</td>\n",
       "    </tr>\n",
       "    <tr>\n",
       "      <th>max</th>\n",
       "      <td>101.000000</td>\n",
       "      <td>120000.000000</td>\n",
       "    </tr>\n",
       "  </tbody>\n",
       "</table>\n",
       "</div>"
      ],
      "text/plain": [
       "                age         income\n",
       "count  55222.000000   55222.000000\n",
       "mean      54.349969   65388.595125\n",
       "std       17.392733   21626.373809\n",
       "min       18.000000   30000.000000\n",
       "25%       42.000000   49000.000000\n",
       "50%       55.000000   63000.000000\n",
       "75%       66.000000   80000.000000\n",
       "max      101.000000  120000.000000"
      ]
     },
     "execution_count": 31,
     "metadata": {},
     "output_type": "execute_result"
    }
   ],
   "source": [
    "merged_df[merged_df['income'].notnull()][['age', 'income']].describe()"
   ]
  },
  {
   "cell_type": "markdown",
   "metadata": {},
   "source": [
    "#### Evaluate year membership record by year using the field became_member_on"
   ]
  },
  {
   "cell_type": "code",
   "execution_count": 35,
   "metadata": {},
   "outputs": [],
   "source": [
    "#start_year = merged_df['became_member_on'].apply(lambda x: x.year).value_counts()\n",
    "#start_year"
   ]
  },
  {
   "cell_type": "markdown",
   "metadata": {},
   "source": [
    "### Data Visualization (contd)"
   ]
  },
  {
   "cell_type": "code",
   "execution_count": 36,
   "metadata": {},
   "outputs": [
    {
     "data": {
      "text/plain": [
       "<matplotlib.axes._subplots.AxesSubplot at 0x7efcd17d8128>"
      ]
     },
     "execution_count": 36,
     "metadata": {},
     "output_type": "execute_result"
    },
    {
     "data": {
      "image/png": "[encoded data removed]",
      "text/plain": [
       "<matplotlib.figure.Figure at 0x7efcd17da898>"
      ]
     },
     "metadata": {
      "needs_background": "light"
     },
     "output_type": "display_data"
    }
   ],
   "source": [
    "merged_df.plot.scatter(x='age', y='income', c='offer_successful', cmap='Blues')"
   ]
  },
  {
   "cell_type": "code",
   "execution_count": 37,
   "metadata": {},
   "outputs": [
    {
     "data": {
      "text/plain": [
       "<matplotlib.axes._subplots.AxesSubplot at 0x7efcd18982b0>"
      ]
     },
     "execution_count": 37,
     "metadata": {},
     "output_type": "execute_result"
    },
    {
     "data": {
      "image/png": "[encoded data removed]",
      "text/plain": [
       "<matplotlib.figure.Figure at 0x7efcd175e1d0>"
      ]
     },
     "metadata": {
      "needs_background": "light"
     },
     "output_type": "display_data"
    }
   ],
   "source": [
    "sns.distplot(merged_df['difficulty'].dropna())"
   ]
  },
  {
   "cell_type": "code",
   "execution_count": 38,
   "metadata": {},
   "outputs": [
    {
     "data": {
      "text/plain": [
       "(array([ 0,  1,  2,  3,  4,  5,  6,  7,  8,  9, 10, 11, 12, 13, 14, 15, 16,\n",
       "        17, 18, 19, 20, 21, 22, 23, 24, 25, 26, 27, 28, 29, 30, 31, 32, 33,\n",
       "        34, 35, 36, 37, 38, 39, 40, 41, 42, 43, 44, 45, 46, 47, 48, 49, 50,\n",
       "        51, 52, 53, 54, 55, 56, 57, 58, 59, 60, 61, 62, 63, 64, 65, 66, 67,\n",
       "        68, 69, 70, 71, 72, 73, 74, 75, 76, 77, 78, 79, 80, 81, 82, 83]),\n",
       " <a list of 84 Text xticklabel objects>)"
      ]
     },
     "execution_count": 38,
     "metadata": {},
     "output_type": "execute_result"
    },
    {
     "data": {
      "image/png": "[encoded data removed]",
      "text/plain": [
       "<matplotlib.figure.Figure at 0x7efcd18f7668>"
      ]
     },
     "metadata": {
      "needs_background": "light"
     },
     "output_type": "display_data"
    }
   ],
   "source": [
    "#get the summary of ages of the participants\n",
    "age_df = merged_df.groupby(['gender', 'age']).size().sort_values(ascending=False) .reset_index(name='count') \n",
    "plt.figure(figsize=(15, 5))\n",
    "sns.barplot(x='age', y='count', hue='gender', data=age_df)\n",
    "plt.xlabel('Member Age')\n",
    "plt.ylabel('Count')\n",
    "plt.xticks(rotation=90)"
   ]
  },
  {
   "cell_type": "markdown",
   "metadata": {},
   "source": [
    "### Plot distrribution of age by gender to see the response of each gender to offers accross ages"
   ]
  },
  {
   "cell_type": "code",
   "execution_count": 21,
   "metadata": {},
   "outputs": [
    {
     "data": {
      "image/png": "[encoded data removed]",
      "text/plain": [
       "<matplotlib.figure.Figure at 0x7f1e5cb6b438>"
      ]
     },
     "metadata": {
      "needs_background": "light"
     },
     "output_type": "display_data"
    }
   ],
   "source": [
    "sns.distplot(merged_df[merged_df['gender']=='M']['age'],hist=False,color=\"g\", kde_kws={\"shade\": True});\n",
    "sns.distplot(merged_df[merged_df['gender']=='F']['age'],hist=False,color=\"b\", kde_kws={\"shade\": True});\n",
    "sns.distplot(merged_df[merged_df['gender']=='O']['age'],hist=False,color=\"r\", kde_kws={\"shade\": True});\n",
    "plt.title('Distribution of Age by Gender')\n",
    "plt.gca().get_yaxis().set_visible(False)\n",
    "plt.legend(['Male','Female', 'Others'],frameon=False);"
   ]
  },
  {
   "cell_type": "markdown",
   "metadata": {},
   "source": [
    "#### From the diagram above, maximum patronage occured at age between 40-70 accross all gender"
   ]
  },
  {
   "cell_type": "markdown",
   "metadata": {},
   "source": [
    "#### Plot distrribution of income by gender to see the response of each gender to offers based on income"
   ]
  },
  {
   "cell_type": "code",
   "execution_count": 22,
   "metadata": {
    "scrolled": true
   },
   "outputs": [
    {
     "data": {
      "image/png": "[encoded data removed]",
      "text/plain": [
       "<matplotlib.figure.Figure at 0x7f1e5cb0bf28>"
      ]
     },
     "metadata": {
      "needs_background": "light"
     },
     "output_type": "display_data"
    }
   ],
   "source": [
    "sns.distplot(merged_df[merged_df['gender']=='M']['income'],hist=False,color=\"g\", kde_kws={\"shade\": True});\n",
    "sns.distplot(merged_df[merged_df['gender']=='F']['income'],hist=False,color=\"b\", kde_kws={\"shade\": True});\n",
    "sns.distplot(merged_df[merged_df['gender']=='O']['income'],hist=False,color=\"r\", kde_kws={\"shade\": True});\n",
    "plt.title('Distribution of Income by Gender')\n",
    "plt.gca().get_yaxis().set_visible(False)\n",
    "plt.legend(['Male','Female', 'Others'],frameon=False);"
   ]
  },
  {
   "cell_type": "markdown",
   "metadata": {},
   "source": [
    "### Count of offers on Gender basis"
   ]
  },
  {
   "cell_type": "code",
   "execution_count": 23,
   "metadata": {
    "scrolled": true
   },
   "outputs": [
    {
     "data": {
      "text/plain": [
       "Text(0,0.5,'Gender Count')"
      ]
     },
     "execution_count": 23,
     "metadata": {},
     "output_type": "execute_result"
    },
    {
     "data": {
      "image/png": "[encoded data removed]",
      "text/plain": [
       "<matplotlib.figure.Figure at 0x7f1e5c7f6f60>"
      ]
     },
     "metadata": {
      "needs_background": "light"
     },
     "output_type": "display_data"
    }
   ],
   "source": [
    "#gender_df = merged_df[merged_df['gender']=='M' or merged_df['gender']=='F']\n",
    "plt.figure(figsize=(15, 5))\n",
    "ax = sns.countplot(x=\"offer_id\", hue=\"gender\", data=merged_df, palette=\"Set3\", edgecolor=sns.color_palette(\"dark\", 12))\n",
    "plt.xlabel('Available Offers')\n",
    "plt.ylabel('Gender Count')"
   ]
  },
  {
   "cell_type": "markdown",
   "metadata": {},
   "source": [
    "### Analysis of successful and unsuccessful offers based on status, income, duration, difficulty and reward"
   ]
  },
  {
   "cell_type": "markdown",
   "metadata": {},
   "source": [
    "#### 1 Based on Status"
   ]
  },
  {
   "cell_type": "code",
   "execution_count": 24,
   "metadata": {
    "scrolled": false
   },
   "outputs": [
    {
     "data": {
      "text/plain": [
       "Text(0.5,1,'Count of Offer Type')"
      ]
     },
     "execution_count": 24,
     "metadata": {},
     "output_type": "execute_result"
    },
    {
     "data": {
      "image/png": "[encoded data removed]",
      "text/plain": [
       "<matplotlib.figure.Figure at 0x7f1e5c7fe8d0>"
      ]
     },
     "metadata": {
      "needs_background": "light"
     },
     "output_type": "display_data"
    }
   ],
   "source": [
    "plt.figure(figsize=(15, 5))\n",
    "sns.countplot(x='offer_id',hue='offer_successful',data=merged_df, palette=\"Set3\", edgecolor=sns.color_palette(\"dark\", 12));\n",
    "plt.legend(['Successful', 'Unsuccessful'],frameon=False)\n",
    "plt.title('Count of Offer Type')"
   ]
  },
  {
   "cell_type": "markdown",
   "metadata": {},
   "source": [
    "#### 2. Based on Income"
   ]
  },
  {
   "cell_type": "code",
   "execution_count": 25,
   "metadata": {
    "scrolled": true
   },
   "outputs": [
    {
     "name": "stderr",
     "output_type": "stream",
     "text": [
      "/opt/conda/lib/python3.6/site-packages/statsmodels/nonparametric/kde.py:454: RuntimeWarning: invalid value encountered in greater\n",
      "  X = X[np.logical_and(X>clip[0], X<clip[1])] # won't work for two columns.\n",
      "/opt/conda/lib/python3.6/site-packages/statsmodels/nonparametric/kde.py:454: RuntimeWarning: invalid value encountered in less\n",
      "  X = X[np.logical_and(X>clip[0], X<clip[1])] # won't work for two columns.\n"
     ]
    },
    {
     "data": {
      "text/plain": [
       "Text(0.5,1,'Distribution of Status of Offers by Income')"
      ]
     },
     "execution_count": 25,
     "metadata": {},
     "output_type": "execute_result"
    },
    {
     "data": {
      "image/png": "[encoded data removed]",
      "text/plain": [
       "<matplotlib.figure.Figure at 0x7f1e570b1da0>"
      ]
     },
     "metadata": {
      "needs_background": "light"
     },
     "output_type": "display_data"
    }
   ],
   "source": [
    "sns.distplot(merged_df[merged_df['offer_successful'] == 1]['income'],hist=False,color=\"g\", kde_kws={\"shade\": True});\n",
    "sns.distplot(merged_df[merged_df['offer_successful'] == 0]['income'],hist=False,color=\"b\", kde_kws={\"shade\": True});\n",
    "plt.legend(['Successful', 'Unsuccessful'],frameon=False)\n",
    "plt.gca().get_yaxis().set_visible(False)\n",
    "plt.title('Distribution of Status of Offers by Income')"
   ]
  },
  {
   "cell_type": "markdown",
   "metadata": {},
   "source": [
    "#### 3. Based on Duration"
   ]
  },
  {
   "cell_type": "code",
   "execution_count": 26,
   "metadata": {
    "scrolled": true
   },
   "outputs": [
    {
     "data": {
      "text/plain": [
       "Text(0.5,1,'Distribution of Status of Offers by Duration')"
      ]
     },
     "execution_count": 26,
     "metadata": {},
     "output_type": "execute_result"
    },
    {
     "data": {
      "image/png": "[encoded data removed]",
      "text/plain": [
       "<matplotlib.figure.Figure at 0x7f1e570dbbe0>"
      ]
     },
     "metadata": {
      "needs_background": "light"
     },
     "output_type": "display_data"
    }
   ],
   "source": [
    "sns.distplot(merged_df[merged_df['offer_successful'] > 0]['duration'],hist=False,color=\"g\", kde_kws={\"shade\": True});\n",
    "sns.distplot(merged_df[merged_df['offer_successful']<= 0]['duration'],hist=False,color=\"b\", kde_kws={\"shade\": True});\n",
    "plt.legend(['Successful', 'Unsuccessful'],frameon=False)\n",
    "plt.gca().get_yaxis().set_visible(False)\n",
    "plt.title('Distribution of Status of Offers by Duration')"
   ]
  },
  {
   "cell_type": "markdown",
   "metadata": {},
   "source": [
    "#### 4. Based on difficulty"
   ]
  },
  {
   "cell_type": "code",
   "execution_count": 27,
   "metadata": {
    "scrolled": true
   },
   "outputs": [
    {
     "data": {
      "text/plain": [
       "Text(0.5,1,'Distribution of Status of Offers by difficulty')"
      ]
     },
     "execution_count": 27,
     "metadata": {},
     "output_type": "execute_result"
    },
    {
     "data": {
      "image/png": "[encoded data removed]",
      "text/plain": [
       "<matplotlib.figure.Figure at 0x7f1e5c806128>"
      ]
     },
     "metadata": {
      "needs_background": "light"
     },
     "output_type": "display_data"
    }
   ],
   "source": [
    "sns.distplot(merged_df[merged_df['offer_successful']> 0]['difficulty'],hist=False,color=\"g\", kde_kws={\"shade\": True});\n",
    "sns.distplot(merged_df[merged_df['offer_successful']<= 0]['difficulty'],hist=False,color=\"b\", kde_kws={\"shade\": True});\n",
    "plt.legend(['Successful', 'Unsuccessful'],frameon=False)\n",
    "plt.gca().get_yaxis().set_visible(False)\n",
    "plt.title('Distribution of Status of Offers by difficulty')"
   ]
  },
  {
   "cell_type": "markdown",
   "metadata": {},
   "source": [
    "#### 5. Based on reward"
   ]
  },
  {
   "cell_type": "code",
   "execution_count": 28,
   "metadata": {
    "scrolled": true
   },
   "outputs": [
    {
     "data": {
      "text/plain": [
       "Text(0.5,1,'Distribution of Status of Offers by reward')"
      ]
     },
     "execution_count": 28,
     "metadata": {},
     "output_type": "execute_result"
    },
    {
     "data": {
      "image/png": "[encoded data removed]",
      "text/plain": [
       "<matplotlib.figure.Figure at 0x7f1e5708c2e8>"
      ]
     },
     "metadata": {
      "needs_background": "light"
     },
     "output_type": "display_data"
    }
   ],
   "source": [
    "sns.distplot(merged_df[merged_df['offer_successful'] > 0]['reward'],hist=False,color=\"g\", kde_kws={\"shade\": True});\n",
    "sns.distplot(merged_df[merged_df['offer_successful'] <= 0]['reward'],hist=False,color=\"b\", kde_kws={\"shade\": True});\n",
    "plt.legend(['Successful', 'Unsuccessful'],frameon=False)\n",
    "plt.gca().get_yaxis().set_visible(False)\n",
    "plt.title('Distribution of Status of Offers by reward')"
   ]
  },
  {
   "cell_type": "markdown",
   "metadata": {},
   "source": [
    "### Modeling\n",
    "\n",
    "##### Let us explore the some modelling techniques to perform some exploratory analysis. Modeling techniques are used in data evaluation and analysis. We would reveal some important findings the best performing offers, etc using these modelling techniques.\n"
   ]
  },
  {
   "cell_type": "code",
   "execution_count": 40,
   "metadata": {
    "scrolled": true
   },
   "outputs": [
    {
     "data": {
      "text/html": [
       "<div>\n",
       "<style scoped>\n",
       "    .dataframe tbody tr th:only-of-type {\n",
       "        vertical-align: middle;\n",
       "    }\n",
       "\n",
       "    .dataframe tbody tr th {\n",
       "        vertical-align: top;\n",
       "    }\n",
       "\n",
       "    .dataframe thead th {\n",
       "        text-align: right;\n",
       "    }\n",
       "</style>\n",
       "<table border=\"1\" class=\"dataframe\">\n",
       "  <thead>\n",
       "    <tr style=\"text-align: right;\">\n",
       "      <th></th>\n",
       "      <th>customer_id</th>\n",
       "      <th>offer_id</th>\n",
       "      <th>offer_successful</th>\n",
       "      <th>difficulty</th>\n",
       "      <th>duration</th>\n",
       "      <th>reward</th>\n",
       "      <th>email</th>\n",
       "      <th>mobile</th>\n",
       "      <th>social</th>\n",
       "      <th>web</th>\n",
       "      <th>...</th>\n",
       "      <th>offer_discount</th>\n",
       "      <th>offer_informational</th>\n",
       "      <th>age</th>\n",
       "      <th>became_member_on</th>\n",
       "      <th>gender</th>\n",
       "      <th>income</th>\n",
       "      <th>valid</th>\n",
       "      <th>gender_f</th>\n",
       "      <th>gender_m</th>\n",
       "      <th>gender_o</th>\n",
       "    </tr>\n",
       "  </thead>\n",
       "  <tbody>\n",
       "    <tr>\n",
       "      <th>3</th>\n",
       "      <td>0009655768c64bdeb2e877511632db8f</td>\n",
       "      <td>1</td>\n",
       "      <td>1.0</td>\n",
       "      <td>5</td>\n",
       "      <td>5</td>\n",
       "      <td>5</td>\n",
       "      <td>1</td>\n",
       "      <td>1</td>\n",
       "      <td>1</td>\n",
       "      <td>1</td>\n",
       "      <td>...</td>\n",
       "      <td>0</td>\n",
       "      <td>0</td>\n",
       "      <td>33</td>\n",
       "      <td>1804</td>\n",
       "      <td>M</td>\n",
       "      <td>72000.0</td>\n",
       "      <td>1</td>\n",
       "      <td>0</td>\n",
       "      <td>1</td>\n",
       "      <td>0</td>\n",
       "    </tr>\n",
       "    <tr>\n",
       "      <th>4</th>\n",
       "      <td>0009655768c64bdeb2e877511632db8f</td>\n",
       "      <td>10</td>\n",
       "      <td>1.0</td>\n",
       "      <td>10</td>\n",
       "      <td>10</td>\n",
       "      <td>2</td>\n",
       "      <td>1</td>\n",
       "      <td>1</td>\n",
       "      <td>1</td>\n",
       "      <td>1</td>\n",
       "      <td>...</td>\n",
       "      <td>1</td>\n",
       "      <td>0</td>\n",
       "      <td>33</td>\n",
       "      <td>1804</td>\n",
       "      <td>M</td>\n",
       "      <td>72000.0</td>\n",
       "      <td>1</td>\n",
       "      <td>0</td>\n",
       "      <td>1</td>\n",
       "      <td>0</td>\n",
       "    </tr>\n",
       "    <tr>\n",
       "      <th>6</th>\n",
       "      <td>0011e0d4e6b944f998e987f904e8c1e5</td>\n",
       "      <td>8</td>\n",
       "      <td>1.0</td>\n",
       "      <td>20</td>\n",
       "      <td>10</td>\n",
       "      <td>5</td>\n",
       "      <td>1</td>\n",
       "      <td>0</td>\n",
       "      <td>0</td>\n",
       "      <td>1</td>\n",
       "      <td>...</td>\n",
       "      <td>1</td>\n",
       "      <td>0</td>\n",
       "      <td>40</td>\n",
       "      <td>1541</td>\n",
       "      <td>O</td>\n",
       "      <td>57000.0</td>\n",
       "      <td>1</td>\n",
       "      <td>0</td>\n",
       "      <td>0</td>\n",
       "      <td>1</td>\n",
       "    </tr>\n",
       "    <tr>\n",
       "      <th>7</th>\n",
       "      <td>0011e0d4e6b944f998e987f904e8c1e5</td>\n",
       "      <td>6</td>\n",
       "      <td>1.0</td>\n",
       "      <td>7</td>\n",
       "      <td>7</td>\n",
       "      <td>3</td>\n",
       "      <td>1</td>\n",
       "      <td>1</td>\n",
       "      <td>1</td>\n",
       "      <td>1</td>\n",
       "      <td>...</td>\n",
       "      <td>1</td>\n",
       "      <td>0</td>\n",
       "      <td>40</td>\n",
       "      <td>1541</td>\n",
       "      <td>O</td>\n",
       "      <td>57000.0</td>\n",
       "      <td>1</td>\n",
       "      <td>0</td>\n",
       "      <td>0</td>\n",
       "      <td>1</td>\n",
       "    </tr>\n",
       "    <tr>\n",
       "      <th>10</th>\n",
       "      <td>0011e0d4e6b944f998e987f904e8c1e5</td>\n",
       "      <td>2</td>\n",
       "      <td>1.0</td>\n",
       "      <td>5</td>\n",
       "      <td>7</td>\n",
       "      <td>5</td>\n",
       "      <td>1</td>\n",
       "      <td>1</td>\n",
       "      <td>0</td>\n",
       "      <td>1</td>\n",
       "      <td>...</td>\n",
       "      <td>0</td>\n",
       "      <td>0</td>\n",
       "      <td>40</td>\n",
       "      <td>1541</td>\n",
       "      <td>O</td>\n",
       "      <td>57000.0</td>\n",
       "      <td>1</td>\n",
       "      <td>0</td>\n",
       "      <td>0</td>\n",
       "      <td>1</td>\n",
       "    </tr>\n",
       "  </tbody>\n",
       "</table>\n",
       "<p>5 rows × 21 columns</p>\n",
       "</div>"
      ],
      "text/plain": [
       "                         customer_id offer_id  offer_successful  difficulty  \\\n",
       "3   0009655768c64bdeb2e877511632db8f        1               1.0           5   \n",
       "4   0009655768c64bdeb2e877511632db8f       10               1.0          10   \n",
       "6   0011e0d4e6b944f998e987f904e8c1e5        8               1.0          20   \n",
       "7   0011e0d4e6b944f998e987f904e8c1e5        6               1.0           7   \n",
       "10  0011e0d4e6b944f998e987f904e8c1e5        2               1.0           5   \n",
       "\n",
       "    duration  reward  email  mobile  social  web    ...     offer_discount  \\\n",
       "3          5       5      1       1       1    1    ...                  0   \n",
       "4         10       2      1       1       1    1    ...                  1   \n",
       "6         10       5      1       0       0    1    ...                  1   \n",
       "7          7       3      1       1       1    1    ...                  1   \n",
       "10         7       5      1       1       0    1    ...                  0   \n",
       "\n",
       "    offer_informational  age  became_member_on  gender   income  valid  \\\n",
       "3                     0   33              1804       M  72000.0      1   \n",
       "4                     0   33              1804       M  72000.0      1   \n",
       "6                     0   40              1541       O  57000.0      1   \n",
       "7                     0   40              1541       O  57000.0      1   \n",
       "10                    0   40              1541       O  57000.0      1   \n",
       "\n",
       "    gender_f  gender_m  gender_o  \n",
       "3          0         1         0  \n",
       "4          0         1         0  \n",
       "6          0         0         1  \n",
       "7          0         0         1  \n",
       "10         0         0         1  \n",
       "\n",
       "[5 rows x 21 columns]"
      ]
     },
     "execution_count": 40,
     "metadata": {},
     "output_type": "execute_result"
    }
   ],
   "source": [
    "merged_df.loc[merged_df['offer_successful'] == 1].head()"
   ]
  },
  {
   "cell_type": "code",
   "execution_count": 41,
   "metadata": {},
   "outputs": [
    {
     "data": {
      "text/html": [
       "<div>\n",
       "<style scoped>\n",
       "    .dataframe tbody tr th:only-of-type {\n",
       "        vertical-align: middle;\n",
       "    }\n",
       "\n",
       "    .dataframe tbody tr th {\n",
       "        vertical-align: top;\n",
       "    }\n",
       "\n",
       "    .dataframe thead th {\n",
       "        text-align: right;\n",
       "    }\n",
       "</style>\n",
       "<table border=\"1\" class=\"dataframe\">\n",
       "  <thead>\n",
       "    <tr style=\"text-align: right;\">\n",
       "      <th></th>\n",
       "      <th>offer_id</th>\n",
       "      <th>difficulty</th>\n",
       "      <th>duration</th>\n",
       "      <th>reward</th>\n",
       "      <th>email</th>\n",
       "      <th>mobile</th>\n",
       "      <th>social</th>\n",
       "      <th>web</th>\n",
       "      <th>offer_bogo</th>\n",
       "      <th>offer_discount</th>\n",
       "      <th>offer_informational</th>\n",
       "      <th>age</th>\n",
       "      <th>income</th>\n",
       "      <th>gender_f</th>\n",
       "      <th>gender_m</th>\n",
       "      <th>gender_o</th>\n",
       "    </tr>\n",
       "  </thead>\n",
       "  <tbody>\n",
       "    <tr>\n",
       "      <th>0</th>\n",
       "      <td>4</td>\n",
       "      <td>10</td>\n",
       "      <td>7</td>\n",
       "      <td>2</td>\n",
       "      <td>1</td>\n",
       "      <td>1</td>\n",
       "      <td>0</td>\n",
       "      <td>1</td>\n",
       "      <td>0</td>\n",
       "      <td>1</td>\n",
       "      <td>0</td>\n",
       "      <td>33</td>\n",
       "      <td>72000.0</td>\n",
       "      <td>0</td>\n",
       "      <td>1</td>\n",
       "      <td>0</td>\n",
       "    </tr>\n",
       "    <tr>\n",
       "      <th>1</th>\n",
       "      <td>9</td>\n",
       "      <td>0</td>\n",
       "      <td>4</td>\n",
       "      <td>0</td>\n",
       "      <td>1</td>\n",
       "      <td>1</td>\n",
       "      <td>0</td>\n",
       "      <td>1</td>\n",
       "      <td>0</td>\n",
       "      <td>0</td>\n",
       "      <td>1</td>\n",
       "      <td>33</td>\n",
       "      <td>72000.0</td>\n",
       "      <td>0</td>\n",
       "      <td>1</td>\n",
       "      <td>0</td>\n",
       "    </tr>\n",
       "    <tr>\n",
       "      <th>2</th>\n",
       "      <td>3</td>\n",
       "      <td>0</td>\n",
       "      <td>3</td>\n",
       "      <td>0</td>\n",
       "      <td>1</td>\n",
       "      <td>1</td>\n",
       "      <td>1</td>\n",
       "      <td>0</td>\n",
       "      <td>0</td>\n",
       "      <td>0</td>\n",
       "      <td>1</td>\n",
       "      <td>33</td>\n",
       "      <td>72000.0</td>\n",
       "      <td>0</td>\n",
       "      <td>1</td>\n",
       "      <td>0</td>\n",
       "    </tr>\n",
       "    <tr>\n",
       "      <th>3</th>\n",
       "      <td>1</td>\n",
       "      <td>5</td>\n",
       "      <td>5</td>\n",
       "      <td>5</td>\n",
       "      <td>1</td>\n",
       "      <td>1</td>\n",
       "      <td>1</td>\n",
       "      <td>1</td>\n",
       "      <td>1</td>\n",
       "      <td>0</td>\n",
       "      <td>0</td>\n",
       "      <td>33</td>\n",
       "      <td>72000.0</td>\n",
       "      <td>0</td>\n",
       "      <td>1</td>\n",
       "      <td>0</td>\n",
       "    </tr>\n",
       "    <tr>\n",
       "      <th>4</th>\n",
       "      <td>10</td>\n",
       "      <td>10</td>\n",
       "      <td>10</td>\n",
       "      <td>2</td>\n",
       "      <td>1</td>\n",
       "      <td>1</td>\n",
       "      <td>1</td>\n",
       "      <td>1</td>\n",
       "      <td>0</td>\n",
       "      <td>1</td>\n",
       "      <td>0</td>\n",
       "      <td>33</td>\n",
       "      <td>72000.0</td>\n",
       "      <td>0</td>\n",
       "      <td>1</td>\n",
       "      <td>0</td>\n",
       "    </tr>\n",
       "  </tbody>\n",
       "</table>\n",
       "</div>"
      ],
      "text/plain": [
       "  offer_id  difficulty  duration  reward  email  mobile  social  web  \\\n",
       "0        4          10         7       2      1       1       0    1   \n",
       "1        9           0         4       0      1       1       0    1   \n",
       "2        3           0         3       0      1       1       1    0   \n",
       "3        1           5         5       5      1       1       1    1   \n",
       "4       10          10        10       2      1       1       1    1   \n",
       "\n",
       "   offer_bogo  offer_discount  offer_informational  age   income  gender_f  \\\n",
       "0           0               1                    0   33  72000.0         0   \n",
       "1           0               0                    1   33  72000.0         0   \n",
       "2           0               0                    1   33  72000.0         0   \n",
       "3           1               0                    0   33  72000.0         0   \n",
       "4           0               1                    0   33  72000.0         0   \n",
       "\n",
       "   gender_m  gender_o  \n",
       "0         1         0  \n",
       "1         1         0  \n",
       "2         1         0  \n",
       "3         1         0  \n",
       "4         1         0  "
      ]
     },
     "execution_count": 41,
     "metadata": {},
     "output_type": "execute_result"
    }
   ],
   "source": [
    "merged_df.drop(columns=['became_member_on', 'gender', 'valid', 'offer_successful']).iloc[:,1:].head()"
   ]
  },
  {
   "cell_type": "code",
   "execution_count": 42,
   "metadata": {},
   "outputs": [
    {
     "data": {
      "text/html": [
       "<div>\n",
       "<style scoped>\n",
       "    .dataframe tbody tr th:only-of-type {\n",
       "        vertical-align: middle;\n",
       "    }\n",
       "\n",
       "    .dataframe tbody tr th {\n",
       "        vertical-align: top;\n",
       "    }\n",
       "\n",
       "    .dataframe thead th {\n",
       "        text-align: right;\n",
       "    }\n",
       "</style>\n",
       "<table border=\"1\" class=\"dataframe\">\n",
       "  <thead>\n",
       "    <tr style=\"text-align: right;\">\n",
       "      <th></th>\n",
       "      <th>offer_bogo</th>\n",
       "      <th>offer_discount</th>\n",
       "      <th>offer_informational</th>\n",
       "      <th>age</th>\n",
       "      <th>became_member_on</th>\n",
       "      <th>gender</th>\n",
       "      <th>income</th>\n",
       "      <th>valid</th>\n",
       "      <th>gender_f</th>\n",
       "      <th>gender_m</th>\n",
       "      <th>gender_o</th>\n",
       "    </tr>\n",
       "  </thead>\n",
       "  <tbody>\n",
       "    <tr>\n",
       "      <th>0</th>\n",
       "      <td>0</td>\n",
       "      <td>1</td>\n",
       "      <td>0</td>\n",
       "      <td>33</td>\n",
       "      <td>1804</td>\n",
       "      <td>M</td>\n",
       "      <td>72000.0</td>\n",
       "      <td>1</td>\n",
       "      <td>0</td>\n",
       "      <td>1</td>\n",
       "      <td>0</td>\n",
       "    </tr>\n",
       "    <tr>\n",
       "      <th>1</th>\n",
       "      <td>0</td>\n",
       "      <td>0</td>\n",
       "      <td>1</td>\n",
       "      <td>33</td>\n",
       "      <td>1804</td>\n",
       "      <td>M</td>\n",
       "      <td>72000.0</td>\n",
       "      <td>1</td>\n",
       "      <td>0</td>\n",
       "      <td>1</td>\n",
       "      <td>0</td>\n",
       "    </tr>\n",
       "    <tr>\n",
       "      <th>2</th>\n",
       "      <td>0</td>\n",
       "      <td>0</td>\n",
       "      <td>1</td>\n",
       "      <td>33</td>\n",
       "      <td>1804</td>\n",
       "      <td>M</td>\n",
       "      <td>72000.0</td>\n",
       "      <td>1</td>\n",
       "      <td>0</td>\n",
       "      <td>1</td>\n",
       "      <td>0</td>\n",
       "    </tr>\n",
       "    <tr>\n",
       "      <th>3</th>\n",
       "      <td>1</td>\n",
       "      <td>0</td>\n",
       "      <td>0</td>\n",
       "      <td>33</td>\n",
       "      <td>1804</td>\n",
       "      <td>M</td>\n",
       "      <td>72000.0</td>\n",
       "      <td>1</td>\n",
       "      <td>0</td>\n",
       "      <td>1</td>\n",
       "      <td>0</td>\n",
       "    </tr>\n",
       "    <tr>\n",
       "      <th>4</th>\n",
       "      <td>0</td>\n",
       "      <td>1</td>\n",
       "      <td>0</td>\n",
       "      <td>33</td>\n",
       "      <td>1804</td>\n",
       "      <td>M</td>\n",
       "      <td>72000.0</td>\n",
       "      <td>1</td>\n",
       "      <td>0</td>\n",
       "      <td>1</td>\n",
       "      <td>0</td>\n",
       "    </tr>\n",
       "  </tbody>\n",
       "</table>\n",
       "</div>"
      ],
      "text/plain": [
       "   offer_bogo  offer_discount  offer_informational  age  became_member_on  \\\n",
       "0           0               1                    0   33              1804   \n",
       "1           0               0                    1   33              1804   \n",
       "2           0               0                    1   33              1804   \n",
       "3           1               0                    0   33              1804   \n",
       "4           0               1                    0   33              1804   \n",
       "\n",
       "  gender   income  valid  gender_f  gender_m  gender_o  \n",
       "0      M  72000.0      1         0         1         0  \n",
       "1      M  72000.0      1         0         1         0  \n",
       "2      M  72000.0      1         0         1         0  \n",
       "3      M  72000.0      1         0         1         0  \n",
       "4      M  72000.0      1         0         1         0  "
      ]
     },
     "execution_count": 42,
     "metadata": {},
     "output_type": "execute_result"
    }
   ],
   "source": [
    "merged_df.iloc[:,1].head()\n",
    "merged_df.iloc[:,10:].head()"
   ]
  },
  {
   "cell_type": "code",
   "execution_count": 43,
   "metadata": {},
   "outputs": [
    {
     "data": {
      "text/plain": [
       "customer_id               0\n",
       "offer_id                  0\n",
       "offer_successful          0\n",
       "difficulty                0\n",
       "duration                  0\n",
       "reward                    0\n",
       "email                     0\n",
       "mobile                    0\n",
       "social                    0\n",
       "web                       0\n",
       "offer_bogo                0\n",
       "offer_discount            0\n",
       "offer_informational       0\n",
       "age                       0\n",
       "became_member_on          0\n",
       "gender                 8066\n",
       "income                 8066\n",
       "valid                     0\n",
       "gender_f                  0\n",
       "gender_m                  0\n",
       "gender_o                  0\n",
       "dtype: int64"
      ]
     },
     "execution_count": 43,
     "metadata": {},
     "output_type": "execute_result"
    }
   ],
   "source": [
    "merged_df.isnull().sum()"
   ]
  },
  {
   "cell_type": "markdown",
   "metadata": {},
   "source": [
    "### Create a model function that would remove the gender field since dummy values had earlier been generated for the field, then fill missing values in the income field with the income mean value"
   ]
  },
  {
   "cell_type": "code",
   "execution_count": 50,
   "metadata": {},
   "outputs": [],
   "source": [
    "def create_model_data(df):\n",
    "    '''\n",
    "    Description: Create a function that would return the  return X variables and the predictor Y\n",
    "    Input \n",
    "        - merged_df\n",
    "    output \n",
    "    - two dataframes X and Y\n",
    "        X - return the collection of the merged data.\n",
    "        Y - return the unique offer types.\n",
    "    '''\n",
    "    #drop categorical culumns from the experiment dataset\n",
    "    my_model = df.copy()\n",
    "    model_df = my_model.drop(columns=['gender', 'valid'])\n",
    "    #We want to look at only successful offers\n",
    "    model_df = model_df.loc[model_df['offer_successful'] == 1]\n",
    "    #fill the missing values with mean of the field (data cleaning and workingwith missing values)\n",
    "    model_df['income'] = model_df['income'].fillna(model_df['income'].mean())\n",
    "    #gat all th rows from the 3rd colmun, focus on the quantitative data\n",
    "    X = model_df.iloc[:,3:]\n",
    "    \n",
    "    #The the labels of all Offers\n",
    "    Y= model_df.offer_id\n",
    "    \n",
    "    \n",
    "    return X, Y"
   ]
  },
  {
   "cell_type": "code",
   "execution_count": 51,
   "metadata": {},
   "outputs": [
    {
     "data": {
      "text/plain": [
       "((24460, 16), (24460,))"
      ]
     },
     "execution_count": 51,
     "metadata": {},
     "output_type": "execute_result"
    }
   ],
   "source": [
    "features, target_labels = create_model_data(merged_df)\n",
    "features.shape, target_labels.shape"
   ]
  },
  {
   "cell_type": "code",
   "execution_count": 52,
   "metadata": {
    "scrolled": true
   },
   "outputs": [
    {
     "data": {
      "text/plain": [
       "3      1\n",
       "4     10\n",
       "6      8\n",
       "7      6\n",
       "10     2\n",
       "Name: offer_id, dtype: object"
      ]
     },
     "execution_count": 52,
     "metadata": {},
     "output_type": "execute_result"
    }
   ],
   "source": [
    "target_labels.head()"
   ]
  },
  {
   "cell_type": "code",
   "execution_count": 53,
   "metadata": {},
   "outputs": [
    {
     "data": {
      "text/html": [
       "<div>\n",
       "<style scoped>\n",
       "    .dataframe tbody tr th:only-of-type {\n",
       "        vertical-align: middle;\n",
       "    }\n",
       "\n",
       "    .dataframe tbody tr th {\n",
       "        vertical-align: top;\n",
       "    }\n",
       "\n",
       "    .dataframe thead th {\n",
       "        text-align: right;\n",
       "    }\n",
       "</style>\n",
       "<table border=\"1\" class=\"dataframe\">\n",
       "  <thead>\n",
       "    <tr style=\"text-align: right;\">\n",
       "      <th></th>\n",
       "      <th>difficulty</th>\n",
       "      <th>duration</th>\n",
       "      <th>reward</th>\n",
       "      <th>email</th>\n",
       "      <th>mobile</th>\n",
       "      <th>social</th>\n",
       "      <th>web</th>\n",
       "      <th>offer_bogo</th>\n",
       "      <th>offer_discount</th>\n",
       "      <th>offer_informational</th>\n",
       "      <th>age</th>\n",
       "      <th>became_member_on</th>\n",
       "      <th>income</th>\n",
       "      <th>gender_f</th>\n",
       "      <th>gender_m</th>\n",
       "      <th>gender_o</th>\n",
       "    </tr>\n",
       "  </thead>\n",
       "  <tbody>\n",
       "    <tr>\n",
       "      <th>3</th>\n",
       "      <td>5</td>\n",
       "      <td>5</td>\n",
       "      <td>5</td>\n",
       "      <td>1</td>\n",
       "      <td>1</td>\n",
       "      <td>1</td>\n",
       "      <td>1</td>\n",
       "      <td>1</td>\n",
       "      <td>0</td>\n",
       "      <td>0</td>\n",
       "      <td>33</td>\n",
       "      <td>1804</td>\n",
       "      <td>72000.0</td>\n",
       "      <td>0</td>\n",
       "      <td>1</td>\n",
       "      <td>0</td>\n",
       "    </tr>\n",
       "    <tr>\n",
       "      <th>4</th>\n",
       "      <td>10</td>\n",
       "      <td>10</td>\n",
       "      <td>2</td>\n",
       "      <td>1</td>\n",
       "      <td>1</td>\n",
       "      <td>1</td>\n",
       "      <td>1</td>\n",
       "      <td>0</td>\n",
       "      <td>1</td>\n",
       "      <td>0</td>\n",
       "      <td>33</td>\n",
       "      <td>1804</td>\n",
       "      <td>72000.0</td>\n",
       "      <td>0</td>\n",
       "      <td>1</td>\n",
       "      <td>0</td>\n",
       "    </tr>\n",
       "    <tr>\n",
       "      <th>6</th>\n",
       "      <td>20</td>\n",
       "      <td>10</td>\n",
       "      <td>5</td>\n",
       "      <td>1</td>\n",
       "      <td>0</td>\n",
       "      <td>0</td>\n",
       "      <td>1</td>\n",
       "      <td>0</td>\n",
       "      <td>1</td>\n",
       "      <td>0</td>\n",
       "      <td>40</td>\n",
       "      <td>1541</td>\n",
       "      <td>57000.0</td>\n",
       "      <td>0</td>\n",
       "      <td>0</td>\n",
       "      <td>1</td>\n",
       "    </tr>\n",
       "    <tr>\n",
       "      <th>7</th>\n",
       "      <td>7</td>\n",
       "      <td>7</td>\n",
       "      <td>3</td>\n",
       "      <td>1</td>\n",
       "      <td>1</td>\n",
       "      <td>1</td>\n",
       "      <td>1</td>\n",
       "      <td>0</td>\n",
       "      <td>1</td>\n",
       "      <td>0</td>\n",
       "      <td>40</td>\n",
       "      <td>1541</td>\n",
       "      <td>57000.0</td>\n",
       "      <td>0</td>\n",
       "      <td>0</td>\n",
       "      <td>1</td>\n",
       "    </tr>\n",
       "    <tr>\n",
       "      <th>10</th>\n",
       "      <td>5</td>\n",
       "      <td>7</td>\n",
       "      <td>5</td>\n",
       "      <td>1</td>\n",
       "      <td>1</td>\n",
       "      <td>0</td>\n",
       "      <td>1</td>\n",
       "      <td>1</td>\n",
       "      <td>0</td>\n",
       "      <td>0</td>\n",
       "      <td>40</td>\n",
       "      <td>1541</td>\n",
       "      <td>57000.0</td>\n",
       "      <td>0</td>\n",
       "      <td>0</td>\n",
       "      <td>1</td>\n",
       "    </tr>\n",
       "  </tbody>\n",
       "</table>\n",
       "</div>"
      ],
      "text/plain": [
       "    difficulty  duration  reward  email  mobile  social  web  offer_bogo  \\\n",
       "3            5         5       5      1       1       1    1           1   \n",
       "4           10        10       2      1       1       1    1           0   \n",
       "6           20        10       5      1       0       0    1           0   \n",
       "7            7         7       3      1       1       1    1           0   \n",
       "10           5         7       5      1       1       0    1           1   \n",
       "\n",
       "    offer_discount  offer_informational  age  became_member_on   income  \\\n",
       "3                0                    0   33              1804  72000.0   \n",
       "4                1                    0   33              1804  72000.0   \n",
       "6                1                    0   40              1541  57000.0   \n",
       "7                1                    0   40              1541  57000.0   \n",
       "10               0                    0   40              1541  57000.0   \n",
       "\n",
       "    gender_f  gender_m  gender_o  \n",
       "3          0         1         0  \n",
       "4          0         1         0  \n",
       "6          0         0         1  \n",
       "7          0         0         1  \n",
       "10         0         0         1  "
      ]
     },
     "execution_count": 53,
     "metadata": {},
     "output_type": "execute_result"
    }
   ],
   "source": [
    "features.head()"
   ]
  },
  {
   "cell_type": "markdown",
   "metadata": {},
   "source": [
    "### 1. Using Random Forrest Classifier: \n",
    "#### In using this algorithm, it allows us to recommend the best offers for other customers using divide-and-conquer approach. It is a highly accurate and robust method because of the number of decision trees participating in the process . It does not suffer from the overfitting problem, takes the average of all the predictions, and cancels out the biases.\n",
    "\n",
    "#### It works in four steps:\n",
    "- Select random samples from a given dataset.\n",
    "- Construct a decision tree for each sample and get a prediction result from each decision tree.\n",
    "- Perform a vote for each predicted result.\n",
    "- Select the prediction result with the most votes as the final prediction.\n"
   ]
  },
  {
   "cell_type": "code",
   "execution_count": null,
   "metadata": {},
   "outputs": [],
   "source": []
  },
  {
   "cell_type": "code",
   "execution_count": 54,
   "metadata": {},
   "outputs": [],
   "source": [
    "# Estimate the Scaling our inputs \n",
    "min_max_scaler = preprocessing.MinMaxScaler()\n",
    "X = min_max_scaler.fit_transform(features)"
   ]
  },
  {
   "cell_type": "code",
   "execution_count": 55,
   "metadata": {},
   "outputs": [
    {
     "data": {
      "text/plain": [
       "((18345, 16), (6115, 16))"
      ]
     },
     "execution_count": 55,
     "metadata": {},
     "output_type": "execute_result"
    }
   ],
   "source": [
    "#Use the experiment data to estimate the training and the test data sets\n",
    "X_train, X_test, y_train, y_test = \\\n",
    "train_test_split(features,target_labels,test_size=.25,random_state=21)\n",
    "\n",
    "X_train.shape, X_test.shape"
   ]
  },
  {
   "cell_type": "code",
   "execution_count": 56,
   "metadata": {},
   "outputs": [],
   "source": [
    "# Scaling our inputs \n",
    "min_max_scaler2 = preprocessing.MinMaxScaler()\n",
    "X_train_fit = min_max_scaler2.fit_transform(X_train)\n",
    "X_test_fit = min_max_scaler2.fit_transform(X_test)"
   ]
  },
  {
   "cell_type": "code",
   "execution_count": 57,
   "metadata": {},
   "outputs": [
    {
     "data": {
      "text/plain": [
       "RandomForestClassifier(bootstrap=True, class_weight=None, criterion='gini',\n",
       "            max_depth=None, max_features='auto', max_leaf_nodes=None,\n",
       "            min_impurity_decrease=0.0, min_impurity_split=None,\n",
       "            min_samples_leaf=1, min_samples_split=2,\n",
       "            min_weight_fraction_leaf=0.0, n_estimators=100, n_jobs=1,\n",
       "            oob_score=False, random_state=None, verbose=0,\n",
       "            warm_start=False)"
      ]
     },
     "execution_count": 57,
     "metadata": {},
     "output_type": "execute_result"
    }
   ],
   "source": [
    "#Create a Gaussian Classifier\n",
    "clf = RandomForestClassifier(n_estimators=100)\n",
    "clf.fit(X_train_fit,y_train)"
   ]
  },
  {
   "cell_type": "code",
   "execution_count": 58,
   "metadata": {},
   "outputs": [],
   "source": [
    "#Predict possible Offers using the test dataset\n",
    "y_pred=clf.predict(X_test_fit)"
   ]
  },
  {
   "cell_type": "code",
   "execution_count": 61,
   "metadata": {},
   "outputs": [
    {
     "data": {
      "text/plain": [
       "array(['2', '6', '10', ..., '6', '6', '1'], dtype=object)"
      ]
     },
     "execution_count": 61,
     "metadata": {},
     "output_type": "execute_result"
    }
   ],
   "source": [
    "y_pred"
   ]
  },
  {
   "cell_type": "markdown",
   "metadata": {},
   "source": [
    "### Use Confusion Matrix to measure the accuracy of the prediction\n",
    "* The Confuion Matrix allows us to visualize the performance of the classification machine learning models. With this visualization technique, we can get a better idea of how our machine learning model is performing\n",
    "* We can look at a confusion matrix to see how much accurate classification and mis-classification there was. The diagonal indicates correct % of classification. Off diagonals indicate the % of times the model misclassified an offer."
   ]
  },
  {
   "cell_type": "code",
   "execution_count": 62,
   "metadata": {},
   "outputs": [
    {
     "data": {
      "text/plain": [
       "1.0"
      ]
     },
     "execution_count": 62,
     "metadata": {},
     "output_type": "execute_result"
    }
   ],
   "source": [
    "#get the confusion matrix and the accuracy score\n",
    "confusion = confusion_matrix(y_test,y_pred)\n",
    "accuracy_score(y_test,y_pred)"
   ]
  },
  {
   "cell_type": "code",
   "execution_count": 63,
   "metadata": {},
   "outputs": [
    {
     "data": {
      "text/plain": [
       "array([[ 921,    0,    0,    0,    0,    0,    0,    0],\n",
       "       [   0, 1145,    0,    0,    0,    0,    0,    0],\n",
       "       [   0,    0,  612,    0,    0,    0,    0,    0],\n",
       "       [   0,    0,    0,  607,    0,    0,    0,    0],\n",
       "       [   0,    0,    0,    0,  691,    0,    0,    0],\n",
       "       [   0,    0,    0,    0,    0, 1070,    0,    0],\n",
       "       [   0,    0,    0,    0,    0,    0,  711,    0],\n",
       "       [   0,    0,    0,    0,    0,    0,    0,  358]])"
      ]
     },
     "execution_count": 63,
     "metadata": {},
     "output_type": "execute_result"
    }
   ],
   "source": [
    "confusion"
   ]
  },
  {
   "cell_type": "code",
   "execution_count": 64,
   "metadata": {
    "scrolled": true
   },
   "outputs": [
    {
     "data": {
      "image/png": "[encoded data removed]",
      "text/plain": [
       "<matplotlib.figure.Figure at 0x7efcec9f0240>"
      ]
     },
     "metadata": {
      "needs_background": "light"
     },
     "output_type": "display_data"
    },
    {
     "data": {
      "text/plain": [
       "<matplotlib.figure.Figure at 0x7efcec9f35f8>"
      ]
     },
     "metadata": {},
     "output_type": "display_data"
    }
   ],
   "source": [
    "ax = sns.heatmap(confusion/np.sum(confusion), annot=True, fmt='.1%', cmap='Blues')\n",
    "#ax = sns.heatmap(confusion,cmap='Blues')\n",
    "\n",
    "\n",
    "ax.set_title('Offers Prediction Confusion Matrix with labels\\n\\n');\n",
    "ax.set_xlabel('\\nPredicted Offers')\n",
    "ax.set_ylabel('Actual Offers ');\n",
    "plt.figure(figsize = (25,20))\n",
    "\n",
    "## Display the visualization of the Confusion Matrix.\n",
    "plt.show()"
   ]
  },
  {
   "cell_type": "markdown",
   "metadata": {},
   "source": [
    "## Using Model to classify individual gata groups"
   ]
  },
  {
   "cell_type": "markdown",
   "metadata": {},
   "source": [
    "### 1. To determine which demographic group that responded best to each offer\n",
    "* Generate model data using the demographic collection"
   ]
  },
  {
   "cell_type": "code",
   "execution_count": 66,
   "metadata": {},
   "outputs": [
    {
     "data": {
      "text/html": [
       "<div>\n",
       "<style scoped>\n",
       "    .dataframe tbody tr th:only-of-type {\n",
       "        vertical-align: middle;\n",
       "    }\n",
       "\n",
       "    .dataframe tbody tr th {\n",
       "        vertical-align: top;\n",
       "    }\n",
       "\n",
       "    .dataframe thead th {\n",
       "        text-align: right;\n",
       "    }\n",
       "</style>\n",
       "<table border=\"1\" class=\"dataframe\">\n",
       "  <thead>\n",
       "    <tr style=\"text-align: right;\">\n",
       "      <th></th>\n",
       "      <th>age</th>\n",
       "      <th>became_member_on</th>\n",
       "      <th>income</th>\n",
       "      <th>gender_f</th>\n",
       "      <th>gender_m</th>\n",
       "      <th>gender_o</th>\n",
       "    </tr>\n",
       "  </thead>\n",
       "  <tbody>\n",
       "    <tr>\n",
       "      <th>3</th>\n",
       "      <td>33</td>\n",
       "      <td>1804</td>\n",
       "      <td>72000.0</td>\n",
       "      <td>0</td>\n",
       "      <td>1</td>\n",
       "      <td>0</td>\n",
       "    </tr>\n",
       "    <tr>\n",
       "      <th>4</th>\n",
       "      <td>33</td>\n",
       "      <td>1804</td>\n",
       "      <td>72000.0</td>\n",
       "      <td>0</td>\n",
       "      <td>1</td>\n",
       "      <td>0</td>\n",
       "    </tr>\n",
       "    <tr>\n",
       "      <th>6</th>\n",
       "      <td>40</td>\n",
       "      <td>1541</td>\n",
       "      <td>57000.0</td>\n",
       "      <td>0</td>\n",
       "      <td>0</td>\n",
       "      <td>1</td>\n",
       "    </tr>\n",
       "    <tr>\n",
       "      <th>7</th>\n",
       "      <td>40</td>\n",
       "      <td>1541</td>\n",
       "      <td>57000.0</td>\n",
       "      <td>0</td>\n",
       "      <td>0</td>\n",
       "      <td>1</td>\n",
       "    </tr>\n",
       "    <tr>\n",
       "      <th>10</th>\n",
       "      <td>40</td>\n",
       "      <td>1541</td>\n",
       "      <td>57000.0</td>\n",
       "      <td>0</td>\n",
       "      <td>0</td>\n",
       "      <td>1</td>\n",
       "    </tr>\n",
       "  </tbody>\n",
       "</table>\n",
       "</div>"
      ],
      "text/plain": [
       "    age  became_member_on   income  gender_f  gender_m  gender_o\n",
       "3    33              1804  72000.0         0         1         0\n",
       "4    33              1804  72000.0         0         1         0\n",
       "6    40              1541  57000.0         0         0         1\n",
       "7    40              1541  57000.0         0         0         1\n",
       "10   40              1541  57000.0         0         0         1"
      ]
     },
     "execution_count": 66,
     "metadata": {},
     "output_type": "execute_result"
    }
   ],
   "source": [
    "X,Y = create_model_data(merged_df)\n",
    "\n",
    "#Only keep inforamtion in the X dataframe that refers to the user.\n",
    "X = X.iloc[:, 10:]\n",
    "X.head()"
   ]
  },
  {
   "cell_type": "code",
   "execution_count": 67,
   "metadata": {},
   "outputs": [
    {
     "data": {
      "text/plain": [
       "RandomForestClassifier(bootstrap=True, class_weight=None, criterion='gini',\n",
       "            max_depth=None, max_features='auto', max_leaf_nodes=None,\n",
       "            min_impurity_decrease=0.0, min_impurity_split=None,\n",
       "            min_samples_leaf=1, min_samples_split=2,\n",
       "            min_weight_fraction_leaf=0.0, n_estimators=100, n_jobs=1,\n",
       "            oob_score=False, random_state=None, verbose=0,\n",
       "            warm_start=False)"
      ]
     },
     "execution_count": 67,
     "metadata": {},
     "output_type": "execute_result"
    }
   ],
   "source": [
    "#Generate the train and test data for prediction\n",
    "X_train, X_test, y_train, y_test = train_test_split(\\\n",
    "                        X,Y,test_size=.2,random_state=21)\n",
    "\n",
    "#Normalize the data\n",
    "sc = preprocessing .StandardScaler()\n",
    "X_train=sc.fit_transform(X_train)\n",
    "X_test = sc.fit_transform(X_test)\n",
    "\n",
    "#Instansiate Classifier\n",
    "classifier = RandomForestClassifier(n_estimators=100)\n",
    "\n",
    "\n",
    "#Train Classifier\n",
    "classifier.fit(X_train,y_train)"
   ]
  },
  {
   "cell_type": "code",
   "execution_count": 68,
   "metadata": {},
   "outputs": [
    {
     "name": "stdout",
     "output_type": "stream",
     "text": [
      "Model accuracy: 0.06\n",
      "             precision    recall  f1-score   support\n",
      "\n",
      "          1       0.06      0.05      0.05       737\n",
      "         10       0.12      0.12      0.12       909\n",
      "          2       0.04      0.03      0.03       485\n",
      "          4       0.02      0.02      0.02       487\n",
      "          5       0.02      0.02      0.02       554\n",
      "          6       0.10      0.11      0.11       864\n",
      "          7       0.03      0.03      0.03       571\n",
      "          8       0.00      0.00      0.00       285\n",
      "\n",
      "avg / total       0.06      0.06      0.06      4892\n",
      "\n"
     ]
    }
   ],
   "source": [
    "y_pred = classifier.predict(X_test)\n",
    "\n",
    "print('Model accuracy: {0:0.2f}'.format(accuracy_score(y_test,y_pred)))\n",
    "print(classification_report(y_test,y_pred))"
   ]
  },
  {
   "cell_type": "code",
   "execution_count": 51,
   "metadata": {},
   "outputs": [],
   "source": [
    "#Generate the confusion matrix\n",
    "cf_matrix_std = confusion_matrix(y_test, y_pred)"
   ]
  },
  {
   "cell_type": "code",
   "execution_count": 52,
   "metadata": {},
   "outputs": [
    {
     "data": {
      "text/plain": [
       "array([[ 12,  62, 105,  33, 105,  54,  61,  53],\n",
       "       [ 60,  47, 171,  39, 176,  62,  88,  94],\n",
       "       [ 82, 166, 112,  35, 235,  75, 101, 103],\n",
       "       [ 41,  44,  34,   2,  53,  30,  39,  42],\n",
       "       [103, 155, 193,  41,  97,  82, 100,  93],\n",
       "       [ 43,  74, 121,  22, 101,  12,  50,  64],\n",
       "       [ 60,  85, 116,  29, 118,  59,  21,  83],\n",
       "       [ 46, 112, 103,  30, 118,  43,  91,  11]])"
      ]
     },
     "execution_count": 52,
     "metadata": {},
     "output_type": "execute_result"
    }
   ],
   "source": [
    "cf_matrix_std"
   ]
  },
  {
   "cell_type": "code",
   "execution_count": 53,
   "metadata": {
    "scrolled": true
   },
   "outputs": [
    {
     "data": {
      "image/png": "[encoded data removed]",
      "text/plain": [
       "<matplotlib.figure.Figure at 0x7f1e56fb5da0>"
      ]
     },
     "metadata": {
      "needs_background": "light"
     },
     "output_type": "display_data"
    }
   ],
   "source": [
    "ax = sns.heatmap(cf_matrix_std/np.sum(cf_matrix_std), annot=True, fmt='.1%', cmap='Blues')\n",
    "ax.set_title('Confusion Matrix with labels based on Demography\\n\\n');\n",
    "ax.set_xlabel('\\nPredicted Offers')\n",
    "ax.set_ylabel('Actual Offers ');\n",
    "## Ticket labels - List must be in alphabetical order\n",
    "ax.xaxis.set_ticklabels(y_pred)\n",
    "ax.yaxis.set_ticklabels(y_pred)\n",
    "## Display the visualization of the Confusion Matrix.\n",
    "plt.show()"
   ]
  },
  {
   "cell_type": "markdown",
   "metadata": {},
   "source": [
    "### To determine which Offer performed best among the offer types"
   ]
  },
  {
   "cell_type": "code",
   "execution_count": 54,
   "metadata": {},
   "outputs": [],
   "source": [
    "X,Y = create_model_data(merged_df)"
   ]
  },
  {
   "cell_type": "code",
   "execution_count": 59,
   "metadata": {},
   "outputs": [
    {
     "data": {
      "text/html": [
       "<div>\n",
       "<style scoped>\n",
       "    .dataframe tbody tr th:only-of-type {\n",
       "        vertical-align: middle;\n",
       "    }\n",
       "\n",
       "    .dataframe tbody tr th {\n",
       "        vertical-align: top;\n",
       "    }\n",
       "\n",
       "    .dataframe thead th {\n",
       "        text-align: right;\n",
       "    }\n",
       "</style>\n",
       "<table border=\"1\" class=\"dataframe\">\n",
       "  <thead>\n",
       "    <tr style=\"text-align: right;\">\n",
       "      <th></th>\n",
       "      <th>difficulty</th>\n",
       "      <th>duration</th>\n",
       "      <th>reward</th>\n",
       "      <th>email</th>\n",
       "      <th>mobile</th>\n",
       "      <th>social</th>\n",
       "      <th>web</th>\n",
       "      <th>offer_bogo</th>\n",
       "      <th>offer_discount</th>\n",
       "      <th>offer_informational</th>\n",
       "    </tr>\n",
       "  </thead>\n",
       "  <tbody>\n",
       "    <tr>\n",
       "      <th>3</th>\n",
       "      <td>5</td>\n",
       "      <td>5</td>\n",
       "      <td>5</td>\n",
       "      <td>1</td>\n",
       "      <td>1</td>\n",
       "      <td>1</td>\n",
       "      <td>1</td>\n",
       "      <td>1</td>\n",
       "      <td>0</td>\n",
       "      <td>0</td>\n",
       "    </tr>\n",
       "    <tr>\n",
       "      <th>4</th>\n",
       "      <td>10</td>\n",
       "      <td>10</td>\n",
       "      <td>2</td>\n",
       "      <td>1</td>\n",
       "      <td>1</td>\n",
       "      <td>1</td>\n",
       "      <td>1</td>\n",
       "      <td>0</td>\n",
       "      <td>1</td>\n",
       "      <td>0</td>\n",
       "    </tr>\n",
       "    <tr>\n",
       "      <th>6</th>\n",
       "      <td>20</td>\n",
       "      <td>10</td>\n",
       "      <td>5</td>\n",
       "      <td>1</td>\n",
       "      <td>0</td>\n",
       "      <td>0</td>\n",
       "      <td>1</td>\n",
       "      <td>0</td>\n",
       "      <td>1</td>\n",
       "      <td>0</td>\n",
       "    </tr>\n",
       "    <tr>\n",
       "      <th>7</th>\n",
       "      <td>7</td>\n",
       "      <td>7</td>\n",
       "      <td>3</td>\n",
       "      <td>1</td>\n",
       "      <td>1</td>\n",
       "      <td>1</td>\n",
       "      <td>1</td>\n",
       "      <td>0</td>\n",
       "      <td>1</td>\n",
       "      <td>0</td>\n",
       "    </tr>\n",
       "    <tr>\n",
       "      <th>10</th>\n",
       "      <td>5</td>\n",
       "      <td>7</td>\n",
       "      <td>5</td>\n",
       "      <td>1</td>\n",
       "      <td>1</td>\n",
       "      <td>0</td>\n",
       "      <td>1</td>\n",
       "      <td>1</td>\n",
       "      <td>0</td>\n",
       "      <td>0</td>\n",
       "    </tr>\n",
       "  </tbody>\n",
       "</table>\n",
       "</div>"
      ],
      "text/plain": [
       "    difficulty  duration  reward  email  mobile  social  web  offer_bogo  \\\n",
       "3            5         5       5      1       1       1    1           1   \n",
       "4           10        10       2      1       1       1    1           0   \n",
       "6           20        10       5      1       0       0    1           0   \n",
       "7            7         7       3      1       1       1    1           0   \n",
       "10           5         7       5      1       1       0    1           1   \n",
       "\n",
       "    offer_discount  offer_informational  \n",
       "3                0                    0  \n",
       "4                1                    0  \n",
       "6                1                    0  \n",
       "7                1                    0  \n",
       "10               0                    0  "
      ]
     },
     "execution_count": 59,
     "metadata": {},
     "output_type": "execute_result"
    }
   ],
   "source": [
    "X = X.iloc[:, :10]\n",
    "X.head()"
   ]
  },
  {
   "cell_type": "code",
   "execution_count": 60,
   "metadata": {},
   "outputs": [
    {
     "data": {
      "text/plain": [
       "RandomForestClassifier(bootstrap=True, class_weight=None, criterion='entropy',\n",
       "            max_depth=None, max_features='auto', max_leaf_nodes=None,\n",
       "            min_impurity_decrease=0.0, min_impurity_split=None,\n",
       "            min_samples_leaf=1, min_samples_split=2,\n",
       "            min_weight_fraction_leaf=0.0, n_estimators=20, n_jobs=1,\n",
       "            oob_score=False, random_state=42, verbose=0, warm_start=False)"
      ]
     },
     "execution_count": 60,
     "metadata": {},
     "output_type": "execute_result"
    }
   ],
   "source": [
    "#Generate the train and test data for prediction\n",
    "X_train, X_test, y_train, y_test = train_test_split(X,Y,test_size=.2,random_state=21)\n",
    "\n",
    "#Normalize the data\n",
    "sc = preprocessing.StandardScaler()\n",
    "X_train=sc.fit_transform(X_train)\n",
    "X_test = sc.fit_transform(X_test)\n",
    "\n",
    "#Instansiate Classifier\n",
    "classifier = RandomForestClassifier(n_estimators=20,criterion='entropy',random_state=42)\n",
    "\n",
    "\n",
    "#Train Classifier\n",
    "classifier.fit(X_train,y_train)"
   ]
  },
  {
   "cell_type": "code",
   "execution_count": 61,
   "metadata": {},
   "outputs": [
    {
     "name": "stdout",
     "output_type": "stream",
     "text": [
      "Model accuracy: 1.00\n",
      "             precision    recall  f1-score   support\n",
      "\n",
      "         10       1.00      1.00      1.00       485\n",
      "          2       1.00      1.00      1.00       737\n",
      "          3       1.00      1.00      1.00       909\n",
      "          4       1.00      1.00      1.00       285\n",
      "          6       1.00      1.00      1.00       864\n",
      "          7       1.00      1.00      1.00       487\n",
      "          8       1.00      1.00      1.00       571\n",
      "          9       1.00      1.00      1.00       554\n",
      "\n",
      "avg / total       1.00      1.00      1.00      4892\n",
      "\n"
     ]
    }
   ],
   "source": [
    "y_pred = classifier.predict(X_test)\n",
    "\n",
    "print('Model accuracy: {0:0.2f}'.format(accuracy_score(y_test,y_pred)))\n",
    "print(classification_report(y_test,y_pred))"
   ]
  },
  {
   "cell_type": "code",
   "execution_count": 62,
   "metadata": {},
   "outputs": [],
   "source": [
    "#Generate the confusion matrix\n",
    "cf_matrix_std_offers = confusion_matrix(y_test, y_pred)"
   ]
  },
  {
   "cell_type": "code",
   "execution_count": 63,
   "metadata": {},
   "outputs": [
    {
     "data": {
      "text/plain": [
       "array([[485,   0,   0,   0,   0,   0,   0,   0],\n",
       "       [  0, 737,   0,   0,   0,   0,   0,   0],\n",
       "       [  0,   0, 909,   0,   0,   0,   0,   0],\n",
       "       [  0,   0,   0, 285,   0,   0,   0,   0],\n",
       "       [  0,   0,   0,   0, 864,   0,   0,   0],\n",
       "       [  0,   0,   0,   0,   0, 487,   0,   0],\n",
       "       [  0,   0,   0,   0,   0,   0, 571,   0],\n",
       "       [  0,   0,   0,   0,   0,   0,   0, 554]])"
      ]
     },
     "execution_count": 63,
     "metadata": {},
     "output_type": "execute_result"
    }
   ],
   "source": [
    "cf_matrix_std_offers"
   ]
  },
  {
   "cell_type": "code",
   "execution_count": 64,
   "metadata": {},
   "outputs": [
    {
     "data": {
      "image/png": "[encoded data removed]",
      "text/plain": [
       "<matplotlib.figure.Figure at 0x7f1e5c8ef978>"
      ]
     },
     "metadata": {
      "needs_background": "light"
     },
     "output_type": "display_data"
    }
   ],
   "source": [
    "ax = sns.heatmap(cf_matrix_std_offers/np.sum(cf_matrix_std_offers), annot=True, fmt='.1%', cmap='Blues')\n",
    "ax.set_title('Confusion Matrix with labels based on Offers\\n\\n');\n",
    "ax.set_xlabel('\\nPredicted Offers')\n",
    "ax.set_ylabel('Actual Offers ');\n",
    "## Ticket labels - List must be in alphabetical order\n",
    "ax.xaxis.set_ticklabels(y_pred)\n",
    "ax.yaxis.set_ticklabels(y_pred)\n",
    "## Display the visualization of the Confusion Matrix.\n",
    "plt.show()"
   ]
  },
  {
   "cell_type": "markdown",
   "metadata": {},
   "source": [
    "### Using Logistic Regression"
   ]
  },
  {
   "cell_type": "markdown",
   "metadata": {},
   "source": [
    "- Gradient Boosting uses an ensemble of decision trees to predict a target label. However, unlike AdaBoost, the Gradient Boost trees have a depth larger than 1\n",
    "- Calculate the average of the target label\n",
    "- Calculate the residuals: For every sample, we calculate the residual with the proceeding formula. \n",
    "  * residual = actual value – predicted value\n",
    "- Construct a decision tree\n",
    "- Predict the target label using all of the trees within the ensemble\n",
    "- Once trained, use all of the trees in the ensemble to make a final prediction as to the value of the target variable"
   ]
  },
  {
   "cell_type": "markdown",
   "metadata": {},
   "source": [
    "### Use GridSearchCV to discover optimal parameters\n",
    "https://www.kaggle.com/enespolat/grid-search-with-logistic-regression\n",
    "https://scikit-learn.org/stable/modules/generated/sklearn.model_selection.GridSearchCV.html"
   ]
  },
  {
   "cell_type": "code",
   "execution_count": 69,
   "metadata": {},
   "outputs": [],
   "source": [
    "#create a model_pipeline\n",
    "def model_pipeline(X_features, y_target):\n",
    "    '''\n",
    "    inputs:\n",
    "    - X_features & y_target dataframe \n",
    "    \n",
    "    outputs:\n",
    "    - Splits features and target dataframe to train and test sets, performs feature scaling on both datasets.\n",
    "    - Outputs X_train, X_test, y_train and y_test dataframes\n",
    "    '''\n",
    "    \n",
    "    #split into training and test sets\n",
    "    X_train, X_test, y_train, y_test = train_test_split(X_features,y_target, test_size=0.20, random_state=42)\n",
    "\n",
    "    #fit and transform scaling on training data\n",
    "    scaler= preprocessing.StandardScaler()\n",
    "    X_train=scaler.fit_transform(X_train)\n",
    "\n",
    "    #scale test data\n",
    "    X_test=scaler.transform(X_test)\n",
    "    \n",
    "    return X_train,X_test,y_train, y_test"
   ]
  },
  {
   "cell_type": "code",
   "execution_count": 70,
   "metadata": {},
   "outputs": [],
   "source": [
    "#define Grid Search function\n",
    "def grid_search_random_forest(X,y):\n",
    "    '''\n",
    "    input:\n",
    "    - X,y: training datasets for X and y\n",
    "    output:\n",
    "    - dictionary with best parameters for random forest model\n",
    "    '''\n",
    "    \n",
    "    params={'max_features': ['auto', 'sqrt'],\n",
    "                'max_depth' : [5,10,15,20],\n",
    "                'n_estimators': [20,30,40,50],\n",
    "                'min_samples_split': [2, 10, 20],\n",
    "                'min_samples_leaf': [2, 10,15, 20],\n",
    "                }\n",
    "    gs_cv = GridSearchCV(RandomForestClassifier(random_state=2), params)\n",
    "    gs_cv.fit(X, y)\n",
    "    gs_cv.best_params_\n",
    "    \n",
    "    return gs_cv.best_params_"
   ]
  },
  {
   "cell_type": "code",
   "execution_count": 77,
   "metadata": {},
   "outputs": [],
   "source": [
    "# Split the dataset into training and test dataset\n",
    "X,Y = create_model_data(merged_df)\n",
    "x_train, x_test, y_train, y_test = train_test_split(X, Y, random_state=1)\n",
    "\n",
    "# Create a Logistic Regression Object, perform Logistic Regression\n",
    "#using some information from \n",
    "#https://www.kaggle.com/code/enespolat/grid-search-with-logistic-regression/notebook\n",
    "#https://www.datarmatics.com/data-science/how-to-perform-logistic-regression-in-pythonstep-by-step/\n",
    "\n",
    "params = {\n",
    "    'penalty': ['l1','l2'], \n",
    "    'C': [1,10,100,1000]\n",
    "}\n",
    "\n",
    "grid_cv = GridSearchCV(LogisticRegression(C=1.0, class_weight=None, dual=False, fit_intercept=True,\n",
    "                   intercept_scaling=1, max_iter=100, multi_class='ovr', n_jobs=1,\n",
    "                   penalty='l2', random_state=None, solver='liblinear', tol=0.0001,\n",
    "                   verbose=3, warm_start=False), params, verbose=3, n_jobs=-1,cv=3)"
   ]
  },
  {
   "cell_type": "code",
   "execution_count": 78,
   "metadata": {},
   "outputs": [
    {
     "name": "stdout",
     "output_type": "stream",
     "text": [
      "Fitting 3 folds for each of 8 candidates, totalling 24 fits\n",
      "[CV] C=1, penalty=l1 .................................................\n",
      "[LibLinear][CV] ....................... C=1, penalty=l1, score=1.0, total=   0.9s\n",
      "[CV] C=1, penalty=l1 .................................................\n",
      "[LibLinear]"
     ]
    },
    {
     "name": "stderr",
     "output_type": "stream",
     "text": [
      "[Parallel(n_jobs=-1)]: Done   1 out of   1 | elapsed:    0.9s remaining:    0.0s\n"
     ]
    },
    {
     "name": "stdout",
     "output_type": "stream",
     "text": [
      "[CV] ....................... C=1, penalty=l1, score=1.0, total=   0.9s\n",
      "[CV] C=1, penalty=l1 .................................................\n",
      "[LibLinear]"
     ]
    },
    {
     "name": "stderr",
     "output_type": "stream",
     "text": [
      "[Parallel(n_jobs=-1)]: Done   2 out of   2 | elapsed:    1.8s remaining:    0.0s\n"
     ]
    },
    {
     "name": "stdout",
     "output_type": "stream",
     "text": [
      "[CV] ....................... C=1, penalty=l1, score=1.0, total=   0.9s\n",
      "[CV] C=1, penalty=l2 .................................................\n",
      "[LibLinear][CV] ........ C=1, penalty=l2, score=0.9344557044785877, total=   1.2s\n",
      "[CV] C=1, penalty=l2 .................................................\n",
      "[LibLinear][CV] ........ C=1, penalty=l2, score=0.8220477592410861, total=   1.2s\n",
      "[CV] C=1, penalty=l2 .................................................\n",
      "[LibLinear][CV] ......... C=1, penalty=l2, score=0.891542614101096, total=   1.2s\n",
      "[CV] C=10, penalty=l1 ................................................\n",
      "[LibLinear][CV] ...................... C=10, penalty=l1, score=1.0, total=   0.6s\n",
      "[CV] C=10, penalty=l1 ................................................\n",
      "[LibLinear][CV] ...................... C=10, penalty=l1, score=1.0, total=   0.6s\n",
      "[CV] C=10, penalty=l1 ................................................\n",
      "[LibLinear][CV] ...................... C=10, penalty=l1, score=1.0, total=   0.7s\n",
      "[CV] C=10, penalty=l2 ................................................\n",
      "[LibLinear][CV] ....... C=10, penalty=l2, score=0.9382151029748284, total=   1.2s\n",
      "[CV] C=10, penalty=l2 ................................................\n",
      "[LibLinear][CV] ....... C=10, penalty=l2, score=0.8544324501144913, total=   1.3s\n",
      "[CV] C=10, penalty=l2 ................................................\n",
      "[LibLinear][CV] ....... C=10, penalty=l2, score=0.8378864714542777, total=   1.1s\n",
      "[CV] C=100, penalty=l1 ...............................................\n",
      "[LibLinear][CV] ..................... C=100, penalty=l1, score=1.0, total=   0.7s\n",
      "[CV] C=100, penalty=l1 ...............................................\n",
      "[LibLinear][CV] ..................... C=100, penalty=l1, score=1.0, total=   0.6s\n",
      "[CV] C=100, penalty=l1 ...............................................\n",
      "[LibLinear][CV] ..................... C=100, penalty=l1, score=1.0, total=   0.5s\n",
      "[CV] C=100, penalty=l2 ...............................................\n",
      "[LibLinear][CV] ...... C=100, penalty=l2, score=0.9488394900294214, total=   1.2s\n",
      "[CV] C=100, penalty=l2 ...............................................\n",
      "[LibLinear][CV] ...... C=100, penalty=l2, score=0.8609748119070985, total=   1.3s\n",
      "[CV] C=100, penalty=l2 ...............................................\n",
      "[LibLinear][CV] ...... C=100, penalty=l2, score=0.8885980696875512, total=   1.1s\n",
      "[CV] C=1000, penalty=l1 ..............................................\n",
      "[LibLinear][CV] .................... C=1000, penalty=l1, score=1.0, total=   0.6s\n",
      "[CV] C=1000, penalty=l1 ..............................................\n",
      "[LibLinear][CV] .................... C=1000, penalty=l1, score=1.0, total=   0.6s\n",
      "[CV] C=1000, penalty=l1 ..............................................\n",
      "[LibLinear][CV] .................... C=1000, penalty=l1, score=1.0, total=   0.7s\n",
      "[CV] C=1000, penalty=l2 ..............................................\n",
      "[LibLinear][CV] ...... C=1000, penalty=l2, score=0.940339980385747, total=   1.2s\n",
      "[CV] C=1000, penalty=l2 ..............................................\n",
      "[LibLinear][CV] ..... C=1000, penalty=l2, score=0.8132155708210664, total=   1.2s\n",
      "[CV] C=1000, penalty=l2 ..............................................\n",
      "[LibLinear][CV] ..... C=1000, penalty=l2, score=0.8845084246687388, total=   1.1s\n",
      "[LibLinear]"
     ]
    },
    {
     "name": "stderr",
     "output_type": "stream",
     "text": [
      "[Parallel(n_jobs=-1)]: Done  24 out of  24 | elapsed:   23.0s finished\n"
     ]
    },
    {
     "data": {
      "text/plain": [
       "GridSearchCV(cv=3, error_score='raise',\n",
       "       estimator=LogisticRegression(C=1.0, class_weight=None, dual=False, fit_intercept=True,\n",
       "          intercept_scaling=1, max_iter=100, multi_class='ovr', n_jobs=1,\n",
       "          penalty='l2', random_state=None, solver='liblinear', tol=0.0001,\n",
       "          verbose=3, warm_start=False),\n",
       "       fit_params=None, iid=True, n_jobs=-1,\n",
       "       param_grid={'penalty': ['l1', 'l2'], 'C': [1, 10, 100, 1000]},\n",
       "       pre_dispatch='2*n_jobs', refit=True, return_train_score='warn',\n",
       "       scoring=None, verbose=3)"
      ]
     },
     "execution_count": 78,
     "metadata": {},
     "output_type": "execute_result"
    }
   ],
   "source": [
    "grid_cv.fit(x_train, y_train)"
   ]
  },
  {
   "cell_type": "code",
   "execution_count": 79,
   "metadata": {},
   "outputs": [
    {
     "data": {
      "text/plain": [
       "{'C': 1, 'penalty': 'l1'}"
      ]
     },
     "execution_count": 79,
     "metadata": {},
     "output_type": "execute_result"
    }
   ],
   "source": [
    "grid_cv.best_params_"
   ]
  },
  {
   "cell_type": "code",
   "execution_count": 80,
   "metadata": {},
   "outputs": [],
   "source": [
    "logistic_y_pred = grid_cv.predict(x_test)\n",
    "logistic_accuracy = accuracy_score(y_test,logistic_y_pred)\n",
    "#logistic_f1 = f1_score(y_test,logistic_y_pred)"
   ]
  },
  {
   "cell_type": "code",
   "execution_count": 81,
   "metadata": {},
   "outputs": [
    {
     "data": {
      "text/plain": [
       "1.0"
      ]
     },
     "execution_count": 81,
     "metadata": {},
     "output_type": "execute_result"
    }
   ],
   "source": [
    "accuracy_score(y_test, logistic_y_pred)"
   ]
  },
  {
   "cell_type": "code",
   "execution_count": 82,
   "metadata": {},
   "outputs": [
    {
     "name": "stdout",
     "output_type": "stream",
     "text": [
      "             precision    recall  f1-score   support\n",
      "\n",
      "          1       1.00      1.00      1.00       919\n",
      "         10       1.00      1.00      1.00      1098\n",
      "          2       1.00      1.00      1.00       610\n",
      "          4       1.00      1.00      1.00       603\n",
      "          5       1.00      1.00      1.00       713\n",
      "          6       1.00      1.00      1.00      1066\n",
      "          7       1.00      1.00      1.00       748\n",
      "          8       1.00      1.00      1.00       358\n",
      "\n",
      "avg / total       1.00      1.00      1.00      6115\n",
      "\n",
      "[[ 919    0    0    0    0    0    0    0]\n",
      " [   0 1098    0    0    0    0    0    0]\n",
      " [   0    0  610    0    0    0    0    0]\n",
      " [   0    0    0  603    0    0    0    0]\n",
      " [   0    0    0    0  713    0    0    0]\n",
      " [   0    0    0    0    0 1066    0    0]\n",
      " [   0    0    0    0    0    0  748    0]\n",
      " [   0    0    0    0    0    0    0  358]]\n",
      "1.0\n",
      "tuned hpyerparameters :(best parameters)  {'C': 1, 'penalty': 'l1'}\n",
      "accuracy : 1.0\n"
     ]
    }
   ],
   "source": [
    "#y_pred = log_model.predict(X_test)\n",
    "conf_matrix = confusion_matrix(y_test, logistic_y_pred)\n",
    "print(classification_report(y_test, logistic_y_pred))\n",
    "print(confusion_matrix(y_test, logistic_y_pred))\n",
    "print(accuracy_score(y_test, logistic_y_pred))\n",
    "\n",
    "print(\"tuned hpyerparameters :(best parameters) \", grid_cv.best_params_)\n",
    "print(\"accuracy :\",grid_cv.best_score_)"
   ]
  },
  {
   "cell_type": "markdown",
   "metadata": {},
   "source": [
    "### Convert categorical variable, offer ids designated as labels 1 - 10) into dummy/indicator variables. This would enable us understand how the offered performed across transactions and demography."
   ]
  },
  {
   "cell_type": "code",
   "execution_count": 97,
   "metadata": {},
   "outputs": [],
   "source": [
    "#Clean the income columns by filling Nan values with mean of the incomes\n",
    "merged_df['income'] = merged_df['income'].fillna(merged_df['income'].mean())\n",
    "X = merged_df.iloc[:,3:] #get all rows that represent quantitative data\n",
    "y = merged_df.offer_successful #get all rows for offer_successful status\n",
    "\n",
    "X = pd.concat([X, merged_df['offer_id']],axis=1)"
   ]
  },
  {
   "cell_type": "code",
   "execution_count": 98,
   "metadata": {},
   "outputs": [],
   "source": [
    "dummies = pd.get_dummies(X['offer_id'])\n",
    "adjusted = X.drop(['offer_id', 'gender', 'became_member_on'],axis=1)\n",
    "merged_new = pd.concat([adjusted, dummies],axis=1)"
   ]
  },
  {
   "cell_type": "code",
   "execution_count": 99,
   "metadata": {},
   "outputs": [
    {
     "data": {
      "text/html": [
       "<div>\n",
       "<style scoped>\n",
       "    .dataframe tbody tr th:only-of-type {\n",
       "        vertical-align: middle;\n",
       "    }\n",
       "\n",
       "    .dataframe tbody tr th {\n",
       "        vertical-align: top;\n",
       "    }\n",
       "\n",
       "    .dataframe thead th {\n",
       "        text-align: right;\n",
       "    }\n",
       "</style>\n",
       "<table border=\"1\" class=\"dataframe\">\n",
       "  <thead>\n",
       "    <tr style=\"text-align: right;\">\n",
       "      <th></th>\n",
       "      <th>difficulty</th>\n",
       "      <th>duration</th>\n",
       "      <th>reward</th>\n",
       "      <th>email</th>\n",
       "      <th>mobile</th>\n",
       "      <th>social</th>\n",
       "      <th>web</th>\n",
       "      <th>offer_bogo</th>\n",
       "      <th>offer_discount</th>\n",
       "      <th>offer_informational</th>\n",
       "      <th>...</th>\n",
       "      <th>1</th>\n",
       "      <th>10</th>\n",
       "      <th>2</th>\n",
       "      <th>3</th>\n",
       "      <th>4</th>\n",
       "      <th>5</th>\n",
       "      <th>6</th>\n",
       "      <th>7</th>\n",
       "      <th>8</th>\n",
       "      <th>9</th>\n",
       "    </tr>\n",
       "  </thead>\n",
       "  <tbody>\n",
       "    <tr>\n",
       "      <th>0</th>\n",
       "      <td>10</td>\n",
       "      <td>7</td>\n",
       "      <td>2</td>\n",
       "      <td>1</td>\n",
       "      <td>1</td>\n",
       "      <td>0</td>\n",
       "      <td>1</td>\n",
       "      <td>0</td>\n",
       "      <td>1</td>\n",
       "      <td>0</td>\n",
       "      <td>...</td>\n",
       "      <td>0</td>\n",
       "      <td>0</td>\n",
       "      <td>0</td>\n",
       "      <td>0</td>\n",
       "      <td>1</td>\n",
       "      <td>0</td>\n",
       "      <td>0</td>\n",
       "      <td>0</td>\n",
       "      <td>0</td>\n",
       "      <td>0</td>\n",
       "    </tr>\n",
       "    <tr>\n",
       "      <th>1</th>\n",
       "      <td>0</td>\n",
       "      <td>4</td>\n",
       "      <td>0</td>\n",
       "      <td>1</td>\n",
       "      <td>1</td>\n",
       "      <td>0</td>\n",
       "      <td>1</td>\n",
       "      <td>0</td>\n",
       "      <td>0</td>\n",
       "      <td>1</td>\n",
       "      <td>...</td>\n",
       "      <td>0</td>\n",
       "      <td>0</td>\n",
       "      <td>0</td>\n",
       "      <td>0</td>\n",
       "      <td>0</td>\n",
       "      <td>0</td>\n",
       "      <td>0</td>\n",
       "      <td>0</td>\n",
       "      <td>0</td>\n",
       "      <td>1</td>\n",
       "    </tr>\n",
       "    <tr>\n",
       "      <th>2</th>\n",
       "      <td>0</td>\n",
       "      <td>3</td>\n",
       "      <td>0</td>\n",
       "      <td>1</td>\n",
       "      <td>1</td>\n",
       "      <td>1</td>\n",
       "      <td>0</td>\n",
       "      <td>0</td>\n",
       "      <td>0</td>\n",
       "      <td>1</td>\n",
       "      <td>...</td>\n",
       "      <td>0</td>\n",
       "      <td>0</td>\n",
       "      <td>0</td>\n",
       "      <td>1</td>\n",
       "      <td>0</td>\n",
       "      <td>0</td>\n",
       "      <td>0</td>\n",
       "      <td>0</td>\n",
       "      <td>0</td>\n",
       "      <td>0</td>\n",
       "    </tr>\n",
       "    <tr>\n",
       "      <th>3</th>\n",
       "      <td>5</td>\n",
       "      <td>5</td>\n",
       "      <td>5</td>\n",
       "      <td>1</td>\n",
       "      <td>1</td>\n",
       "      <td>1</td>\n",
       "      <td>1</td>\n",
       "      <td>1</td>\n",
       "      <td>0</td>\n",
       "      <td>0</td>\n",
       "      <td>...</td>\n",
       "      <td>1</td>\n",
       "      <td>0</td>\n",
       "      <td>0</td>\n",
       "      <td>0</td>\n",
       "      <td>0</td>\n",
       "      <td>0</td>\n",
       "      <td>0</td>\n",
       "      <td>0</td>\n",
       "      <td>0</td>\n",
       "      <td>0</td>\n",
       "    </tr>\n",
       "    <tr>\n",
       "      <th>4</th>\n",
       "      <td>10</td>\n",
       "      <td>10</td>\n",
       "      <td>2</td>\n",
       "      <td>1</td>\n",
       "      <td>1</td>\n",
       "      <td>1</td>\n",
       "      <td>1</td>\n",
       "      <td>0</td>\n",
       "      <td>1</td>\n",
       "      <td>0</td>\n",
       "      <td>...</td>\n",
       "      <td>0</td>\n",
       "      <td>1</td>\n",
       "      <td>0</td>\n",
       "      <td>0</td>\n",
       "      <td>0</td>\n",
       "      <td>0</td>\n",
       "      <td>0</td>\n",
       "      <td>0</td>\n",
       "      <td>0</td>\n",
       "      <td>0</td>\n",
       "    </tr>\n",
       "  </tbody>\n",
       "</table>\n",
       "<p>5 rows × 26 columns</p>\n",
       "</div>"
      ],
      "text/plain": [
       "   difficulty  duration  reward  email  mobile  social  web  offer_bogo  \\\n",
       "0          10         7       2      1       1       0    1           0   \n",
       "1           0         4       0      1       1       0    1           0   \n",
       "2           0         3       0      1       1       1    0           0   \n",
       "3           5         5       5      1       1       1    1           1   \n",
       "4          10        10       2      1       1       1    1           0   \n",
       "\n",
       "   offer_discount  offer_informational ...  1  10  2  3  4  5  6  7  8  9  \n",
       "0               1                    0 ...  0   0  0  0  1  0  0  0  0  0  \n",
       "1               0                    1 ...  0   0  0  0  0  0  0  0  0  1  \n",
       "2               0                    1 ...  0   0  0  1  0  0  0  0  0  0  \n",
       "3               0                    0 ...  1   0  0  0  0  0  0  0  0  0  \n",
       "4               1                    0 ...  0   1  0  0  0  0  0  0  0  0  \n",
       "\n",
       "[5 rows x 26 columns]"
      ]
     },
     "execution_count": 99,
     "metadata": {},
     "output_type": "execute_result"
    }
   ],
   "source": [
    "merged_new.head()"
   ]
  },
  {
   "cell_type": "code",
   "execution_count": 103,
   "metadata": {},
   "outputs": [
    {
     "data": {
      "text/plain": [
       "<matplotlib.axes._subplots.AxesSubplot at 0x7efcd2640dd8>"
      ]
     },
     "execution_count": 103,
     "metadata": {},
     "output_type": "execute_result"
    },
    {
     "data": {
      "image/png": "[encoded data removed]",
      "text/plain": [
       "<matplotlib.figure.Figure at 0x7efcd2640898>"
      ]
     },
     "metadata": {
      "needs_background": "light"
     },
     "output_type": "display_data"
    }
   ],
   "source": [
    "plt.figure(figsize=(10,10))\n",
    "# calculate the correlation matrix\n",
    "corr = merged_new.corr()\n",
    "\n",
    "# plot the heatmap\n",
    "#https://stackoverflow.com/questions/39409866/correlation-heatmap\n",
    "sns.heatmap(corr, \n",
    "    xticklabels=merged_new.columns,\n",
    "    yticklabels=merged_new.columns, \n",
    "    fmt='.1%', cmap='Blues')\n"
   ]
  },
  {
   "cell_type": "code",
   "execution_count": 104,
   "metadata": {},
   "outputs": [],
   "source": [
    "#From the above diagram, there is a correlation on the email attribute. \n",
    "#This is because all customers that participated in the offers had their email addresses\n",
    "#so let's drop the email field\n",
    "X = merged_new.drop(['email'], axis=1)\n",
    "X_train, X_test, y_train, y_test = train_test_split(X, y,test_size=.2, random_state = 42)\n",
    "\n",
    "scaler = preprocessing.MinMaxScaler()"
   ]
  },
  {
   "cell_type": "code",
   "execution_count": 105,
   "metadata": {},
   "outputs": [
    {
     "data": {
      "text/html": [
       "<div>\n",
       "<style scoped>\n",
       "    .dataframe tbody tr th:only-of-type {\n",
       "        vertical-align: middle;\n",
       "    }\n",
       "\n",
       "    .dataframe tbody tr th {\n",
       "        vertical-align: top;\n",
       "    }\n",
       "\n",
       "    .dataframe thead th {\n",
       "        text-align: right;\n",
       "    }\n",
       "</style>\n",
       "<table border=\"1\" class=\"dataframe\">\n",
       "  <thead>\n",
       "    <tr style=\"text-align: right;\">\n",
       "      <th></th>\n",
       "      <th>difficulty</th>\n",
       "      <th>duration</th>\n",
       "      <th>reward</th>\n",
       "      <th>mobile</th>\n",
       "      <th>social</th>\n",
       "      <th>web</th>\n",
       "      <th>offer_bogo</th>\n",
       "      <th>offer_discount</th>\n",
       "      <th>offer_informational</th>\n",
       "      <th>age</th>\n",
       "      <th>...</th>\n",
       "      <th>1</th>\n",
       "      <th>10</th>\n",
       "      <th>2</th>\n",
       "      <th>3</th>\n",
       "      <th>4</th>\n",
       "      <th>5</th>\n",
       "      <th>6</th>\n",
       "      <th>7</th>\n",
       "      <th>8</th>\n",
       "      <th>9</th>\n",
       "    </tr>\n",
       "  </thead>\n",
       "  <tbody>\n",
       "    <tr>\n",
       "      <th>15937</th>\n",
       "      <td>10</td>\n",
       "      <td>7</td>\n",
       "      <td>2</td>\n",
       "      <td>1</td>\n",
       "      <td>0</td>\n",
       "      <td>1</td>\n",
       "      <td>0</td>\n",
       "      <td>1</td>\n",
       "      <td>0</td>\n",
       "      <td>84</td>\n",
       "      <td>...</td>\n",
       "      <td>0</td>\n",
       "      <td>0</td>\n",
       "      <td>0</td>\n",
       "      <td>0</td>\n",
       "      <td>1</td>\n",
       "      <td>0</td>\n",
       "      <td>0</td>\n",
       "      <td>0</td>\n",
       "      <td>0</td>\n",
       "      <td>0</td>\n",
       "    </tr>\n",
       "    <tr>\n",
       "      <th>15639</th>\n",
       "      <td>10</td>\n",
       "      <td>7</td>\n",
       "      <td>10</td>\n",
       "      <td>1</td>\n",
       "      <td>1</td>\n",
       "      <td>0</td>\n",
       "      <td>1</td>\n",
       "      <td>0</td>\n",
       "      <td>0</td>\n",
       "      <td>118</td>\n",
       "      <td>...</td>\n",
       "      <td>0</td>\n",
       "      <td>0</td>\n",
       "      <td>0</td>\n",
       "      <td>0</td>\n",
       "      <td>0</td>\n",
       "      <td>1</td>\n",
       "      <td>0</td>\n",
       "      <td>0</td>\n",
       "      <td>0</td>\n",
       "      <td>0</td>\n",
       "    </tr>\n",
       "    <tr>\n",
       "      <th>25222</th>\n",
       "      <td>10</td>\n",
       "      <td>7</td>\n",
       "      <td>2</td>\n",
       "      <td>1</td>\n",
       "      <td>0</td>\n",
       "      <td>1</td>\n",
       "      <td>0</td>\n",
       "      <td>1</td>\n",
       "      <td>0</td>\n",
       "      <td>67</td>\n",
       "      <td>...</td>\n",
       "      <td>0</td>\n",
       "      <td>0</td>\n",
       "      <td>0</td>\n",
       "      <td>0</td>\n",
       "      <td>1</td>\n",
       "      <td>0</td>\n",
       "      <td>0</td>\n",
       "      <td>0</td>\n",
       "      <td>0</td>\n",
       "      <td>0</td>\n",
       "    </tr>\n",
       "    <tr>\n",
       "      <th>13047</th>\n",
       "      <td>10</td>\n",
       "      <td>7</td>\n",
       "      <td>2</td>\n",
       "      <td>1</td>\n",
       "      <td>0</td>\n",
       "      <td>1</td>\n",
       "      <td>0</td>\n",
       "      <td>1</td>\n",
       "      <td>0</td>\n",
       "      <td>56</td>\n",
       "      <td>...</td>\n",
       "      <td>0</td>\n",
       "      <td>0</td>\n",
       "      <td>0</td>\n",
       "      <td>0</td>\n",
       "      <td>1</td>\n",
       "      <td>0</td>\n",
       "      <td>0</td>\n",
       "      <td>0</td>\n",
       "      <td>0</td>\n",
       "      <td>0</td>\n",
       "    </tr>\n",
       "    <tr>\n",
       "      <th>2561</th>\n",
       "      <td>10</td>\n",
       "      <td>5</td>\n",
       "      <td>10</td>\n",
       "      <td>1</td>\n",
       "      <td>1</td>\n",
       "      <td>1</td>\n",
       "      <td>1</td>\n",
       "      <td>0</td>\n",
       "      <td>0</td>\n",
       "      <td>90</td>\n",
       "      <td>...</td>\n",
       "      <td>0</td>\n",
       "      <td>0</td>\n",
       "      <td>0</td>\n",
       "      <td>0</td>\n",
       "      <td>0</td>\n",
       "      <td>0</td>\n",
       "      <td>0</td>\n",
       "      <td>1</td>\n",
       "      <td>0</td>\n",
       "      <td>0</td>\n",
       "    </tr>\n",
       "  </tbody>\n",
       "</table>\n",
       "<p>5 rows × 25 columns</p>\n",
       "</div>"
      ],
      "text/plain": [
       "       difficulty  duration  reward  mobile  social  web  offer_bogo  \\\n",
       "15937          10         7       2       1       0    1           0   \n",
       "15639          10         7      10       1       1    0           1   \n",
       "25222          10         7       2       1       0    1           0   \n",
       "13047          10         7       2       1       0    1           0   \n",
       "2561           10         5      10       1       1    1           1   \n",
       "\n",
       "       offer_discount  offer_informational  age ...  1  10  2  3  4  5  6  7  \\\n",
       "15937               1                    0   84 ...  0   0  0  0  1  0  0  0   \n",
       "15639               0                    0  118 ...  0   0  0  0  0  1  0  0   \n",
       "25222               1                    0   67 ...  0   0  0  0  1  0  0  0   \n",
       "13047               1                    0   56 ...  0   0  0  0  1  0  0  0   \n",
       "2561                0                    0   90 ...  0   0  0  0  0  0  0  1   \n",
       "\n",
       "       8  9  \n",
       "15937  0  0  \n",
       "15639  0  0  \n",
       "25222  0  0  \n",
       "13047  0  0  \n",
       "2561   0  0  \n",
       "\n",
       "[5 rows x 25 columns]"
      ]
     },
     "execution_count": 105,
     "metadata": {},
     "output_type": "execute_result"
    }
   ],
   "source": [
    "X_train.head()"
   ]
  },
  {
   "cell_type": "code",
   "execution_count": 91,
   "metadata": {},
   "outputs": [],
   "source": [
    "X_train = scaler.fit_transform(X_train)\n",
    "\n",
    "X_test = scaler.fit_transform(X_test)\n",
    "logistic_model = LogisticRegression(solver='liblinear',random_state=42)"
   ]
  },
  {
   "cell_type": "code",
   "execution_count": 92,
   "metadata": {},
   "outputs": [
    {
     "name": "stdout",
     "output_type": "stream",
     "text": [
      "Logistic Regression Accuracy: 0.76\n"
     ]
    }
   ],
   "source": [
    "logistic_model.fit(X_train,y_train)\n",
    "logistic_y_pred = logistic_model.predict(X_test)\n",
    "logistic_accuracy = accuracy_score(y_test,logistic_y_pred)\n",
    "\n",
    "print(\"Logistic Regression Accuracy: %.2f\" % accuracy_score(y_test, logistic_y_pred))"
   ]
  },
  {
   "cell_type": "code",
   "execution_count": 93,
   "metadata": {},
   "outputs": [],
   "source": [
    "#Calculate the confusion matrix\n",
    "confusion = confusion_matrix(y_test,logistic_y_pred)"
   ]
  },
  {
   "cell_type": "code",
   "execution_count": 116,
   "metadata": {},
   "outputs": [
    {
     "name": "stdout",
     "output_type": "stream",
     "text": [
      "[[ 0.49178385  0.12055617]\n",
      " [ 0.1224522   0.26520777]]\n"
     ]
    }
   ],
   "source": [
    "print(confusion/np.sum(confusion))"
   ]
  },
  {
   "cell_type": "code",
   "execution_count": 114,
   "metadata": {
    "scrolled": true
   },
   "outputs": [
    {
     "data": {
      "image/png": "[encoded data removed]",
      "text/plain": [
       "<matplotlib.figure.Figure at 0x7efcd281f240>"
      ]
     },
     "metadata": {
      "needs_background": "light"
     },
     "output_type": "display_data"
    }
   ],
   "source": [
    "sns.heatmap(confusion/np.sum(confusion),annot=True, fmt='.1%', cmap='Blues')\n",
    "plt.title('Plot of Confusion Matrix based on Logistic Regression')\n",
    "plt.ylabel(\"Actual value\")\n",
    "plt.xlabel(\"Predicted value\");"
   ]
  },
  {
   "cell_type": "code",
   "execution_count": 96,
   "metadata": {
    "scrolled": true
   },
   "outputs": [
    {
     "name": "stdout",
     "output_type": "stream",
     "text": [
      "F1 Score for the Logistic Regression modle is: 0.69\n"
     ]
    }
   ],
   "source": [
    "#calculate the F1 Score\n",
    "logistic_f1 = f1_score(y_test,logistic_y_pred)\n",
    "print(\"F1 Score for the Logistic Regression modle is: %.2f\" % logistic_f1)"
   ]
  },
  {
   "cell_type": "markdown",
   "metadata": {},
   "source": [
    "#### Reapply the GridSearchCV Algorithm based on the Logistic Regression trained data"
   ]
  },
  {
   "cell_type": "code",
   "execution_count": 106,
   "metadata": {},
   "outputs": [],
   "source": [
    "grid_cv2 = GridSearchCV(LogisticRegression(C=1.0, class_weight=None, dual=False, fit_intercept=True,\n",
    "                   intercept_scaling=1, max_iter=100, multi_class='ovr', n_jobs=1,\n",
    "                   penalty='l2', random_state=None, solver='liblinear', tol=0.0001,\n",
    "                   verbose=3, warm_start=False), params, verbose=3, n_jobs=-1,cv=3)"
   ]
  },
  {
   "cell_type": "code",
   "execution_count": 109,
   "metadata": {
    "scrolled": true
   },
   "outputs": [
    {
     "name": "stdout",
     "output_type": "stream",
     "text": [
      "Fitting 3 folds for each of 8 candidates, totalling 24 fits\n",
      "[CV] C=1, penalty=l1 .................................................\n",
      "[LibLinear][CV] ........ C=1, penalty=l1, score=0.7558807844996148, total=   0.4s\n",
      "[CV] C=1, penalty=l1 .................................................\n",
      "[LibLinear]"
     ]
    },
    {
     "name": "stderr",
     "output_type": "stream",
     "text": [
      "[Parallel(n_jobs=-1)]: Done   1 out of   1 | elapsed:    0.4s remaining:    0.0s\n"
     ]
    },
    {
     "name": "stdout",
     "output_type": "stream",
     "text": [
      "[CV] ........ C=1, penalty=l1, score=0.7519108846358951, total=   0.3s\n",
      "[CV] C=1, penalty=l1 .................................................\n",
      "[LibLinear]"
     ]
    },
    {
     "name": "stderr",
     "output_type": "stream",
     "text": [
      "[Parallel(n_jobs=-1)]: Done   2 out of   2 | elapsed:    0.6s remaining:    0.0s\n"
     ]
    },
    {
     "name": "stdout",
     "output_type": "stream",
     "text": [
      "[CV] ........ C=1, penalty=l1, score=0.7453187959232046, total=   0.5s\n",
      "[CV] C=1, penalty=l2 .................................................\n",
      "[LibLinear][CV] ......... C=1, penalty=l2, score=0.592937133376785, total=   0.2s\n",
      "[CV] C=1, penalty=l2 .................................................\n",
      "[LibLinear][CV] ........ C=1, penalty=l2, score=0.5902707827220478, total=   0.3s\n",
      "[CV] C=1, penalty=l2 .................................................\n",
      "[LibLinear][CV] ........ C=1, penalty=l2, score=0.5916093861104527, total=   0.3s\n",
      "[CV] C=10, penalty=l1 ................................................\n",
      "[LibLinear][CV] ....... C=10, penalty=l1, score=0.7559992889731587, total=   0.4s\n",
      "[CV] C=10, penalty=l1 ................................................\n",
      "[LibLinear][CV] ....... C=10, penalty=l1, score=0.7512591100314037, total=   0.3s\n",
      "[CV] C=10, penalty=l1 ................................................\n",
      "[LibLinear][CV] ....... C=10, penalty=l1, score=0.7455558189144347, total=   0.2s\n",
      "[CV] C=10, penalty=l2 ................................................\n",
      "[LibLinear][CV] ........ C=10, penalty=l2, score=0.592937133376785, total=   0.2s\n",
      "[CV] C=10, penalty=l2 ................................................\n",
      "[LibLinear][CV] ....... C=10, penalty=l2, score=0.5902707827220478, total=   0.3s\n",
      "[CV] C=10, penalty=l2 ................................................\n",
      "[LibLinear][CV] ....... C=10, penalty=l2, score=0.5916093861104527, total=   0.3s\n",
      "[CV] C=100, penalty=l1 ...............................................\n",
      "[LibLinear][CV] ...... C=100, penalty=l1, score=0.7545179830538603, total=   0.2s\n",
      "[CV] C=100, penalty=l1 ...............................................\n",
      "[LibLinear][CV] ...... C=100, penalty=l1, score=0.7520886413462108, total=   0.2s\n",
      "[CV] C=100, penalty=l1 ...............................................\n",
      "[LibLinear][CV] ...... C=100, penalty=l1, score=0.7453780516710121, total=   0.4s\n",
      "[CV] C=100, penalty=l2 ...............................................\n",
      "[LibLinear][CV] ....... C=100, penalty=l2, score=0.592937133376785, total=   0.2s\n",
      "[CV] C=100, penalty=l2 ...............................................\n",
      "[LibLinear][CV] ...... C=100, penalty=l2, score=0.5902707827220478, total=   0.3s\n",
      "[CV] C=100, penalty=l2 ...............................................\n",
      "[LibLinear][CV] ...... C=100, penalty=l2, score=0.5916093861104527, total=   0.3s\n",
      "[CV] C=1000, penalty=l1 ..............................................\n",
      "[LibLinear][CV] ..... C=1000, penalty=l1, score=0.7559400367363868, total=   0.4s\n",
      "[CV] C=1000, penalty=l1 ..............................................\n",
      "[LibLinear][CV] ..... C=1000, penalty=l1, score=0.7514961189784914, total=   0.4s\n",
      "[CV] C=1000, penalty=l1 ..............................................\n",
      "[LibLinear][CV] ..... C=1000, penalty=l1, score=0.7452002844275895, total=   0.5s\n",
      "[CV] C=1000, penalty=l2 ..............................................\n",
      "[LibLinear][CV] ...... C=1000, penalty=l2, score=0.592937133376785, total=   0.3s\n",
      "[CV] C=1000, penalty=l2 ..............................................\n",
      "[LibLinear][CV] ..... C=1000, penalty=l2, score=0.5902707827220478, total=   0.3s\n",
      "[CV] C=1000, penalty=l2 ..............................................\n",
      "[LibLinear][CV] ..... C=1000, penalty=l2, score=0.5916093861104527, total=   0.3s\n",
      "[LibLinear]"
     ]
    },
    {
     "name": "stderr",
     "output_type": "stream",
     "text": [
      "[Parallel(n_jobs=-1)]: Done  24 out of  24 | elapsed:    7.3s finished\n"
     ]
    },
    {
     "data": {
      "text/plain": [
       "GridSearchCV(cv=3, error_score='raise',\n",
       "       estimator=LogisticRegression(C=1.0, class_weight=None, dual=False, fit_intercept=True,\n",
       "          intercept_scaling=1, max_iter=100, multi_class='ovr', n_jobs=1,\n",
       "          penalty='l2', random_state=None, solver='liblinear', tol=0.0001,\n",
       "          verbose=3, warm_start=False),\n",
       "       fit_params=None, iid=True, n_jobs=-1,\n",
       "       param_grid={'penalty': ['l1', 'l2'], 'C': [1, 10, 100, 1000]},\n",
       "       pre_dispatch='2*n_jobs', refit=True, return_train_score='warn',\n",
       "       scoring=None, verbose=3)"
      ]
     },
     "execution_count": 109,
     "metadata": {},
     "output_type": "execute_result"
    }
   ],
   "source": [
    "grid_cv2.fit(X_train, y_train)"
   ]
  },
  {
   "cell_type": "code",
   "execution_count": 110,
   "metadata": {},
   "outputs": [
    {
     "data": {
      "text/plain": [
       "{'C': 1, 'penalty': 'l1'}"
      ]
     },
     "execution_count": 110,
     "metadata": {},
     "output_type": "execute_result"
    }
   ],
   "source": [
    "grid_cv2.best_params_"
   ]
  },
  {
   "cell_type": "code",
   "execution_count": 111,
   "metadata": {},
   "outputs": [],
   "source": [
    "logistic_y_pred2 = grid_cv2.predict(X_test)\n",
    "logistic_accuracy2 = accuracy_score(y_test,logistic_y_pred2)\n",
    "logistic_f12 = f1_score(y_test,logistic_y_pred2)"
   ]
  },
  {
   "cell_type": "code",
   "execution_count": 112,
   "metadata": {},
   "outputs": [
    {
     "name": "stdout",
     "output_type": "stream",
     "text": [
      "See the classification report below:\n",
      "             precision    recall  f1-score   support\n",
      "\n",
      "        0.0       0.80      0.80      0.80      7751\n",
      "        1.0       0.69      0.68      0.69      4907\n",
      "\n",
      "avg / total       0.76      0.76      0.76     12658\n",
      "\n",
      "See the confusion matric below:\n",
      "[[6224 1527]\n",
      " [1555 3352]]\n",
      "The accuracy from Logistic Regression using Grid Serch CV is:  0.756517617317\n",
      "Logistic Regression :(best parameters)  {'C': 1, 'penalty': 'l1'}\n",
      "Logistic Regression accuracy : 0.751036934624\n"
     ]
    }
   ],
   "source": [
    "#Generate the Confusion matrix\n",
    "conf_matrix2 = confusion_matrix(y_test, logistic_y_pred2)\n",
    "\n",
    "\n",
    "print(\"See the classification report below:\")\n",
    "print(classification_report(y_test, logistic_y_pred2))\n",
    "print(\"See the confusion matric below:\")\n",
    "print(conf_matrix2)\n",
    "print(\"The accuracy from Logistic Regression using Grid Serch CV is: \", logistic_accuracy2)\n",
    "\n",
    "print(\"Logistic Regression :(best parameters) \", grid_cv2.best_params_)\n",
    "print(\"Logistic Regression accuracy :\",grid_cv2.best_score_)"
   ]
  },
  {
   "cell_type": "code",
   "execution_count": 295,
   "metadata": {},
   "outputs": [],
   "source": [
    "#Confusion Matrix expressed as a percentage\n",
    "percent_conf = conf_matrix2/np.sum(conf_matrix2)"
   ]
  },
  {
   "cell_type": "code",
   "execution_count": 298,
   "metadata": {
    "scrolled": true
   },
   "outputs": [
    {
     "name": "stdout",
     "output_type": "stream",
     "text": [
      "See the confusion matric below: (%)\n",
      "[[ 0.49138884  0.12095118]\n",
      " [ 0.1224522   0.26520777]]\n"
     ]
    }
   ],
   "source": [
    "print(\"See the confusion matric below: (%)\")\n",
    "print(percent_conf)"
   ]
  },
  {
   "cell_type": "code",
   "execution_count": 299,
   "metadata": {},
   "outputs": [
    {
     "name": "stdout",
     "output_type": "stream",
     "text": [
      "Logistic Regression FI Score : 0.685451761103\n"
     ]
    }
   ],
   "source": [
    "print(\"Logistic Regression FI Score :\",logistic_f12)"
   ]
  },
  {
   "cell_type": "code",
   "execution_count": 113,
   "metadata": {},
   "outputs": [
    {
     "data": {
      "image/png": "[encoded data removed]",
      "text/plain": [
       "<matplotlib.figure.Figure at 0x7efcd27dd828>"
      ]
     },
     "metadata": {
      "needs_background": "light"
     },
     "output_type": "display_data"
    }
   ],
   "source": [
    "sns.heatmap(conf_matrix2/np.sum(conf_matrix2),annot=True, fmt='.1%', cmap='Blues')\n",
    "plt.title('Plot of Confusion Matrix based on GridSearchCV with Logistic Regression')\n",
    "plt.ylabel(\"Actual value\")\n",
    "plt.xlabel(\"Predicted value\");"
   ]
  },
  {
   "cell_type": "code",
   "execution_count": null,
   "metadata": {},
   "outputs": [],
   "source": []
  }
 ],
 "metadata": {
  "kernelspec": {
   "display_name": "Python 3",
   "language": "python",
   "name": "python3"
  },
  "language_info": {
   "codemirror_mode": {
    "name": "ipython",
    "version": 3
   },
   "file_extension": ".py",
   "mimetype": "text/x-python",
   "name": "python",
   "nbconvert_exporter": "python",
   "pygments_lexer": "ipython3",
   "version": "3.6.3"
  }
 },
 "nbformat": 4,
 "nbformat_minor": 2
}
